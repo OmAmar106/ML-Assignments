{
 "cells": [
  {
   "cell_type": "code",
   "execution_count": 1,
   "metadata": {
    "executionInfo": {
     "elapsed": 3,
     "status": "ok",
     "timestamp": 1665475594842,
     "user": {
      "displayName": "Nitin Kumar Jha",
      "userId": "04937771533360242308"
     },
     "user_tz": -330
    },
    "id": "0kgvCN0n3_1p"
   },
   "outputs": [],
   "source": [
    "import numpy as np\n",
    "import matplotlib.pyplot as plt"
   ]
  },
  {
   "cell_type": "markdown",
   "metadata": {
    "id": "iBY90BqPXO31"
   },
   "source": [
    "This assignments has two sections:\n",
    "* Linear Regression\n",
    "* Kernel Regression\n",
    "\n",
    "\n"
   ]
  },
  {
   "cell_type": "markdown",
   "metadata": {
    "id": "X1nmn2q15Vzn"
   },
   "source": [
    "# Section 1:\n",
    "\n",
    "**Linear Regression**"
   ]
  },
  {
   "cell_type": "markdown",
   "metadata": {
    "id": "aComJ_Fd5dnI"
   },
   "source": [
    "We will use the Boston_housing dataset for the regression problem. Run the below cell to get the following variables:\n",
    "* `Training_data` = Training data matrix of shape $(n, d)$\n",
    "* `labels` = label vector corresponding to the training data\n",
    "* `test_data` = Test data matrix of shape $(n_1, d)$ where $n_1$ is the number of examples in test dataset.\n",
    "* `test_labels` = label vector corresponding to the test data\n",
    "\n",
    "Use this dataset for the regression problem."
   ]
  },
  {
   "cell_type": "code",
   "execution_count": 2,
   "metadata": {
    "colab": {
     "base_uri": "https://localhost:8080/"
    },
    "executionInfo": {
     "elapsed": 4833,
     "status": "ok",
     "timestamp": 1665475604120,
     "user": {
      "displayName": "Nitin Kumar Jha",
      "userId": "04937771533360242308"
     },
     "user_tz": -330
    },
    "id": "53UCtcH64nsC",
    "outputId": "ab65d832-7d80-4edb-826c-2d86639cf837"
   },
   "outputs": [
    {
     "name": "stdout",
     "output_type": "stream",
     "text": [
      "Downloading data from https://storage.googleapis.com/tensorflow/tf-keras-datasets/boston_housing.npz\n",
      "\u001b[1m57026/57026\u001b[0m \u001b[32m━━━━━━━━━━━━━━━━━━━━\u001b[0m\u001b[37m\u001b[0m \u001b[1m0s\u001b[0m 2us/step\n"
     ]
    }
   ],
   "source": [
    "from keras.datasets import boston_housing\n",
    "Train, test = boston_housing.load_data(seed= 111)\n",
    "Training_data, labels = Train[0], Train[1]\n",
    "Test_data, test_labels = test[0], test[1]"
   ]
  },
  {
   "cell_type": "markdown",
   "metadata": {
    "id": "R0Dnj-Qha47p"
   },
   "source": [
    "## Question 1\n",
    "How many examples are there in the training dataset?"
   ]
  },
  {
   "cell_type": "code",
   "execution_count": 3,
   "metadata": {
    "colab": {
     "base_uri": "https://localhost:8080/"
    },
    "executionInfo": {
     "elapsed": 874,
     "status": "ok",
     "timestamp": 1665475609242,
     "user": {
      "displayName": "Nitin Kumar Jha",
      "userId": "04937771533360242308"
     },
     "user_tz": -330
    },
    "id": "vpLeerN2mGRi",
    "outputId": "445ca439-f07e-4bf0-f19d-43e635b1531a"
   },
   "outputs": [
    {
     "data": {
      "text/plain": [
       "404"
      ]
     },
     "execution_count": 3,
     "metadata": {},
     "output_type": "execute_result"
    }
   ],
   "source": [
    "Training_data.shape[0]"
   ]
  },
  {
   "cell_type": "markdown",
   "metadata": {
    "id": "ChYFPOV5b5jZ"
   },
   "source": [
    "## Question 2\n",
    "How many examples are there in the test dataset?"
   ]
  },
  {
   "cell_type": "code",
   "execution_count": 4,
   "metadata": {
    "colab": {
     "base_uri": "https://localhost:8080/"
    },
    "executionInfo": {
     "elapsed": 455,
     "status": "ok",
     "timestamp": 1665475647422,
     "user": {
      "displayName": "Nitin Kumar Jha",
      "userId": "04937771533360242308"
     },
     "user_tz": -330
    },
    "id": "0XK7s98bb8PY",
    "outputId": "306c16e5-13a3-44b5-f327-798ba17194d2"
   },
   "outputs": [
    {
     "data": {
      "text/plain": [
       "102"
      ]
     },
     "execution_count": 4,
     "metadata": {},
     "output_type": "execute_result"
    }
   ],
   "source": [
    "Test_data.shape[0]"
   ]
  },
  {
   "cell_type": "markdown",
   "metadata": {
    "id": "ZYLLXlAacL5c"
   },
   "source": [
    "## Question 3\n",
    "\n",
    "How many features are there in the dataset?"
   ]
  },
  {
   "cell_type": "code",
   "execution_count": 5,
   "metadata": {
    "colab": {
     "base_uri": "https://localhost:8080/"
    },
    "executionInfo": {
     "elapsed": 6,
     "status": "ok",
     "timestamp": 1665475651518,
     "user": {
      "displayName": "Nitin Kumar Jha",
      "userId": "04937771533360242308"
     },
     "user_tz": -330
    },
    "id": "rGvr9_jkO7NA",
    "outputId": "fb525c17-4ffa-4f94-938e-77018bbdfa0c"
   },
   "outputs": [
    {
     "data": {
      "text/plain": [
       "13"
      ]
     },
     "execution_count": 5,
     "metadata": {},
     "output_type": "execute_result"
    }
   ],
   "source": [
    "Training_data.shape[1]"
   ]
  },
  {
   "cell_type": "markdown",
   "metadata": {
    "id": "KmF4HhMmhx9R"
   },
   "source": [
    "Linear regression model for the dataset ${\\mathbb{x}, y}$ is given as\n",
    "$$h_w(\\mathbb{x}) = w_1x^{1}+w_2x^{2}+...+w_dx^{d} =  \\mathbb{x}^Tw\n",
    "$$\n",
    "\n",
    "where $x^{i}$ is the $i^{th}$ feature, $\\mathbb{x}$ is the feature matrix of shape $(d, n)$ and $w = [w_1, w_2, ...w_d]^T$ is the weight vector.\n",
    "\n",
    "\n",
    "Notice that above model always pass through the origin but for a given dataset, best fit model need not pass through the origin. To tackle this issue, we add an intercept $w_0$ in the model and set the corresponding featrue $x^{0}$ to $1$. That is \n",
    "\n",
    "$$h_w(\\mathbb{x}) =w_0x^{0}+ w_1x^{1}+w_2x^{2}+...+w_dx^{n} =  \\mathbb{x}^Tw\n",
    "$$\n",
    "\n",
    "We call $x^{0}$ the dummy feature and set its value to 1 for each examples. Now $w$ is of shape $(d+1, 1)$ and $\\mathbb{x}$ is of shape $(d+1, n)$ where the first row of $\\mathbb{x}$ has entries as 1.\n"
   ]
  },
  {
   "cell_type": "markdown",
   "metadata": {
    "id": "kN5fsfqfmX_w"
   },
   "source": [
    "## Task \n",
    "\n",
    "Add the dummy feature in the feature matrix `Training_data` and test data matrix `test_data`. We will be using this new feature matrices (after adding te dummy feature) for learning the model."
   ]
  },
  {
   "cell_type": "code",
   "execution_count": 34,
   "metadata": {
    "executionInfo": {
     "elapsed": 950,
     "status": "ok",
     "timestamp": 1665475659911,
     "user": {
      "displayName": "Nitin Kumar Jha",
      "userId": "04937771533360242308"
     },
     "user_tz": -330
    },
    "id": "wic4nhW47fOv"
   },
   "outputs": [
    {
     "name": "stdout",
     "output_type": "stream",
     "text": [
      "(404, 14) (102, 14)\n"
     ]
    }
   ],
   "source": [
    "dummy_feature = np.ones(Training_data.shape[0])\n",
    "X = np.column_stack((dummy_feature, Training_data))\n",
    "X_test = np.column_stack((np.ones(Test_data.shape[0]), Test_data))\n",
    "print(X.shape,X_test.shape)"
   ]
  },
  {
   "cell_type": "markdown",
   "metadata": {
    "id": "sK4oWgqCnzgc"
   },
   "source": [
    "## Question 4\n",
    "If the solution of optimization problem is obtained by setting the first derivative of loss function (squared loss) to zero, find the value of $w_0,w_1,...w_d$."
   ]
  },
  {
   "cell_type": "markdown",
   "metadata": {},
   "source": [
    "since i am using shape[0] as the number of elements and shape[1] as the number of features , the formula becomes (X.T @ X)Partial inverse @ X.T @ Y "
   ]
  },
  {
   "cell_type": "code",
   "execution_count": 43,
   "metadata": {
    "executionInfo": {
     "elapsed": 594,
     "status": "ok",
     "timestamp": 1665475682342,
     "user": {
      "displayName": "Nitin Kumar Jha",
      "userId": "04937771533360242308"
     },
     "user_tz": -330
    },
    "id": "JORYNRkdOo55"
   },
   "outputs": [],
   "source": [
    "def weights(X, y): \n",
    "  return (np.linalg.pinv((X.T)@(X)))@(X.T)@y"
   ]
  },
  {
   "cell_type": "code",
   "execution_count": 50,
   "metadata": {
    "colab": {
     "base_uri": "https://localhost:8080/"
    },
    "executionInfo": {
     "elapsed": 413,
     "status": "ok",
     "timestamp": 1665475685612,
     "user": {
      "displayName": "Nitin Kumar Jha",
      "userId": "04937771533360242308"
     },
     "user_tz": -330
    },
    "id": "YGyNEoTwRGiz",
    "outputId": "bac86e92-1eaa-42e1-dbe2-b2c18b1ad192"
   },
   "outputs": [
    {
     "data": {
      "text/plain": [
       "(14,)"
      ]
     },
     "execution_count": 50,
     "metadata": {},
     "output_type": "execute_result"
    }
   ],
   "source": [
    "W = weights(X, labels)\n",
    "W.shape"
   ]
  },
  {
   "cell_type": "markdown",
   "metadata": {},
   "source": [
    "These are the coeefecients of x1,x2,x3,...,xn,1"
   ]
  },
  {
   "cell_type": "markdown",
   "metadata": {
    "id": "uBUor5KWp3_Q"
   },
   "source": [
    "## Question 5\n",
    "Find the average of the predictions made by the above model.\n",
    "\n"
   ]
  },
  {
   "cell_type": "code",
   "execution_count": null,
   "metadata": {
    "executionInfo": {
     "elapsed": 3,
     "status": "ok",
     "timestamp": 1665475690049,
     "user": {
      "displayName": "Nitin Kumar Jha",
      "userId": "04937771533360242308"
     },
     "user_tz": -330
    },
    "id": "O2vF1aE2Rxfs"
   },
   "outputs": [],
   "source": [
    "def predict(X, w):\n",
    "  return (X)@w"
   ]
  },
  {
   "cell_type": "code",
   "execution_count": null,
   "metadata": {
    "colab": {
     "base_uri": "https://localhost:8080/"
    },
    "executionInfo": {
     "elapsed": 361,
     "status": "ok",
     "timestamp": 1665475693957,
     "user": {
      "displayName": "Nitin Kumar Jha",
      "userId": "04937771533360242308"
     },
     "user_tz": -330
    },
    "id": "CCCf5HksSD7o",
    "outputId": "539eccfc-5c24-4b4a-a682-75641235b9cd"
   },
   "outputs": [
    {
     "data": {
      "text/plain": [
       "22.30915841584045"
      ]
     },
     "execution_count": 20,
     "metadata": {},
     "output_type": "execute_result"
    }
   ],
   "source": [
    "np.mean(predict(X, W)) #no point i think , since we are not giving the mean of a feature "
   ]
  },
  {
   "cell_type": "markdown",
   "metadata": {
    "id": "FSDbBz7ucm_a"
   },
   "source": [
    "## Question 6\n",
    "\n",
    "Find the loss for the training data points using the above model. Consider the loss to be defined as\n",
    "\n",
    "$$ \\sqrt{\\dfrac{1}{n}\\sum\\limits_{i=1}^{n} (y_i- \\hat{y}_i)^2}\n",
    "$$\n",
    "\n",
    "Where $\\hat{y}_i$ is the prediction for $i^{th}$ data point. "
   ]
  },
  {
   "cell_type": "markdown",
   "metadata": {},
   "source": [
    "This is the loss with regards to the training data only, not the test data."
   ]
  },
  {
   "cell_type": "code",
   "execution_count": null,
   "metadata": {
    "executionInfo": {
     "elapsed": 1044,
     "status": "ok",
     "timestamp": 1665477295185,
     "user": {
      "displayName": "Nitin Kumar Jha",
      "userId": "04937771533360242308"
     },
     "user_tz": -330
    },
    "id": "dAr0bZ9HFoKs"
   },
   "outputs": [],
   "source": [
    "def loss(X, W):\n",
    "    ans = 0\n",
    "    import math\n",
    "    for i in range(len(X)):\n",
    "        ans += ((X[i]-W[i])**2)\n",
    "    ans /= len(X)\n",
    "    return math.sqrt(ans)\n",
    "\n",
    "def loss1(X,W,labels):\n",
    "    ans = 0\n",
    "    for i in range(len(X)):\n",
    "        ans += (X[i]@W - labels[i])**2\n",
    "    ans /= len(X)\n",
    "    return np.sqrt(ans)"
   ]
  },
  {
   "cell_type": "code",
   "execution_count": 62,
   "metadata": {
    "colab": {
     "base_uri": "https://localhost:8080/"
    },
    "executionInfo": {
     "elapsed": 5,
     "status": "ok",
     "timestamp": 1665475831332,
     "user": {
      "displayName": "Nitin Kumar Jha",
      "userId": "04937771533360242308"
     },
     "user_tz": -330
    },
    "id": "YTT7dvknS8cg",
    "outputId": "e6c52ac8-4623-4e12-ffb8-abbb8018b6e5"
   },
   "outputs": [
    {
     "name": "stdout",
     "output_type": "stream",
     "text": [
      "4.552387969840812 4.552387969840813\n"
     ]
    }
   ],
   "source": [
    "y_hat = predict(X, W)\n",
    "print(loss(labels, y_hat),loss1(X,W,labels))"
   ]
  },
  {
   "cell_type": "markdown",
   "metadata": {
    "id": "5eh8cI4PeVEb"
   },
   "source": [
    "## Question 7\n",
    "\n",
    "Find the loss for the test data points using the above model. Consider the loss to be defined as\n",
    "\n",
    "$$ \\sqrt{\\dfrac{1}{n}\\sum\\limits_{i=1}^{n} (y_i- \\hat{y}_i)^2}\n",
    "$$\n",
    "\n",
    "Where $\\hat{y}_i$ is the prediction for $i^{th}$ data point. "
   ]
  },
  {
   "cell_type": "code",
   "execution_count": 63,
   "metadata": {
    "colab": {
     "base_uri": "https://localhost:8080/"
    },
    "executionInfo": {
     "elapsed": 4,
     "status": "ok",
     "timestamp": 1665475890002,
     "user": {
      "displayName": "Nitin Kumar Jha",
      "userId": "04937771533360242308"
     },
     "user_tz": -330
    },
    "id": "vBMCgEIBU6v5",
    "outputId": "b893fe45-99a8-4b13-e05a-546296410ee1"
   },
   "outputs": [
    {
     "name": "stdout",
     "output_type": "stream",
     "text": [
      "5.327662216187744 5.327662216187743\n"
     ]
    }
   ],
   "source": [
    "y_test_hat = predict(X_test, W)\n",
    "print(loss(test_labels, y_test_hat),loss1(X_test,W,test_labels))"
   ]
  },
  {
   "cell_type": "markdown",
   "metadata": {
    "id": "NkeClcplfJLK"
   },
   "source": [
    "## Question 8\n",
    "Find the weights using the gradient descent. Use a constant learning rate of $\\eta = 10^{-10}$. Initialize the weight vector as zero vector and update the weights for 100 iterations.\n",
    "\n"
   ]
  },
  {
   "cell_type": "code",
   "execution_count": 70,
   "metadata": {
    "executionInfo": {
     "elapsed": 711,
     "status": "ok",
     "timestamp": 1665475900456,
     "user": {
      "displayName": "Nitin Kumar Jha",
      "userId": "04937771533360242308"
     },
     "user_tz": -330
    },
    "id": "QbpyGnfgWEqj"
   },
   "outputs": [],
   "source": [
    "def gradient(X, w, y):\n",
    "  return 2*((X.T)@X)@w-2*((X.T)@y)"
   ]
  },
  {
   "cell_type": "code",
   "execution_count": 65,
   "metadata": {
    "executionInfo": {
     "elapsed": 3,
     "status": "ok",
     "timestamp": 1665475903007,
     "user": {
      "displayName": "Nitin Kumar Jha",
      "userId": "04937771533360242308"
     },
     "user_tz": -330
    },
    "id": "uwN2k-k3eNE1"
   },
   "outputs": [],
   "source": [
    "def GradDesc(X, w0, y, eta):\n",
    "  for i in range(100):\n",
    "    w0 = w0- eta*(gradient(X, w0, y))\n",
    "  return w0"
   ]
  },
  {
   "cell_type": "code",
   "execution_count": 77,
   "metadata": {
    "colab": {
     "base_uri": "https://localhost:8080/"
    },
    "executionInfo": {
     "elapsed": 741,
     "status": "ok",
     "timestamp": 1665475906798,
     "user": {
      "displayName": "Nitin Kumar Jha",
      "userId": "04937771533360242308"
     },
     "user_tz": -330
    },
    "id": "GvXXXzK7fKIC",
    "outputId": "ced2145c-6ced-4a6e-efa2-477aa5f1c579"
   },
   "outputs": [
    {
     "name": "stdout",
     "output_type": "stream",
     "text": [
      "[ 7.40008965e-05 -5.09455988e-05  1.62737973e-03  4.95579098e-04\n",
      "  7.52578727e-06  3.62130099e-05  5.04129247e-04  4.03267490e-03\n",
      "  3.41356839e-04  3.32757188e-04  2.15186218e-02  1.26868172e-03\n",
      "  2.82816603e-02  4.89426249e-04]\n"
     ]
    }
   ],
   "source": [
    "upw = GradDesc(X, np.zeros(X.shape[1]), labels, 1e-10)\n",
    "print(upw)"
   ]
  },
  {
   "cell_type": "markdown",
   "metadata": {
    "id": "78ApH0oAg96X"
   },
   "source": [
    "## Question 9\n",
    "\n",
    "Find the loss for the training data points if the model is learnt using the gradient descent as in question 8. Consider the loss to be defined as\n",
    "\n",
    "$$ \\sqrt{\\dfrac{1}{n}\\sum\\limits_{i=1}^{n} (y_i- \\hat{y}_i)^2}\n",
    "$$\n",
    "\n",
    "Where $\\hat{y}_i$ is the prediction for $i^{th}$ data point. \n",
    "\n",
    "Use the training data."
   ]
  },
  {
   "cell_type": "code",
   "execution_count": 78,
   "metadata": {
    "colab": {
     "base_uri": "https://localhost:8080/"
    },
    "executionInfo": {
     "elapsed": 6,
     "status": "ok",
     "timestamp": 1665475945950,
     "user": {
      "displayName": "Nitin Kumar Jha",
      "userId": "04937771533360242308"
     },
     "user_tz": -330
    },
    "id": "oI1yIf9N8la7",
    "outputId": "a37d105e-d259-4c21-ed7b-10afd036a4ac"
   },
   "outputs": [
    {
     "data": {
      "text/plain": [
       "11.13727323702196"
      ]
     },
     "execution_count": 78,
     "metadata": {},
     "output_type": "execute_result"
    }
   ],
   "source": [
    "gd_y_hat = predict(X, upw)\n",
    "loss(labels, gd_y_hat)"
   ]
  },
  {
   "cell_type": "markdown",
   "metadata": {
    "id": "FA7UKT1Y3PXa"
   },
   "source": [
    "## Question 10\n",
    "\n",
    "Find the loss for the test data points if the model is learnt using the gradient descent as in question 8. Consider the loss to be defined as\n",
    "\n",
    "$$ \\sqrt{\\dfrac{1}{n}\\sum\\limits_{i=1}^{n} (y_i- \\hat{y}_i)^2}\n",
    "$$\n",
    "\n",
    "Where $\\hat{y}_i$ is the prediction for $i^{th}$ data point. \n",
    "\n",
    "Use the test data."
   ]
  },
  {
   "cell_type": "code",
   "execution_count": 79,
   "metadata": {
    "colab": {
     "base_uri": "https://localhost:8080/"
    },
    "executionInfo": {
     "elapsed": 5,
     "status": "ok",
     "timestamp": 1665476011455,
     "user": {
      "displayName": "Nitin Kumar Jha",
      "userId": "04937771533360242308"
     },
     "user_tz": -330
    },
    "id": "tevVzIIj3SZj",
    "outputId": "9aa6b445-2c50-4ab7-b3b2-98b03602473a"
   },
   "outputs": [
    {
     "data": {
      "text/plain": [
       "10.96449125006215"
      ]
     },
     "execution_count": 79,
     "metadata": {},
     "output_type": "execute_result"
    }
   ],
   "source": [
    "gd_y_test_hat = predict(X_test, upw)\n",
    "loss(test_labels, gd_y_test_hat)"
   ]
  },
  {
   "cell_type": "markdown",
   "metadata": {
    "id": "-AoLsBKc31Ul"
   },
   "source": [
    "## Question 11\n",
    "Find the weights using the stochastic gradient descent. Use a constant learning rate of $\\eta = 10^{-8}$. Initialize the weight vector as zero vector and update the weights for 1000 iterations. Take the batch size of $⌈\\text{number of samples}/5⌉ $. For sampling the batch examples in $ith$ iteration, set seed at $i$. The final weight is the last updated weight.\n",
    "\n"
   ]
  },
  {
   "cell_type": "code",
   "execution_count": null,
   "metadata": {
    "executionInfo": {
     "elapsed": 718,
     "status": "ok",
     "timestamp": 1665476020565,
     "user": {
      "displayName": "Nitin Kumar Jha",
      "userId": "04937771533360242308"
     },
     "user_tz": -330
    },
    "id": "R4odop9yF9VY"
   },
   "outputs": [],
   "source": [
    "def SGD(X, w0, y, eta):\n",
    "  ans = []\n",
    "  for i in range(1000):\n",
    "    rng = np.random.default_rng(seed = i)\n",
    "    indices = rng.integers(0, X.shape[0], size = X.shape[0]//5) # randomly choose 5 data points\n",
    "    X1 = X[indices]\n",
    "    y1 = y[indices]\n",
    "    w0 = w0- eta*(gradient(X1, w0, y1))\n",
    "    ans.append(w0)\n",
    "  return np.array(ans)"
   ]
  },
  {
   "cell_type": "code",
   "execution_count": null,
   "metadata": {
    "colab": {
     "base_uri": "https://localhost:8080/"
    },
    "executionInfo": {
     "elapsed": 444,
     "status": "ok",
     "timestamp": 1665476035348,
     "user": {
      "displayName": "Nitin Kumar Jha",
      "userId": "04937771533360242308"
     },
     "user_tz": -330
    },
    "id": "7o004joOKd0P",
    "outputId": "e9af75e3-28d0-423c-9a02-12aff447b57b"
   },
   "outputs": [
    {
     "name": "stdout",
     "output_type": "stream",
     "text": [
      "[  0.64066455  -8.73671591  39.91421138  -5.088115     0.30613938\n",
      "   0.18681645   7.2239351    4.84239534   3.13826328  -1.86301684\n",
      "   0.69234395   5.96249139  58.00893994 -18.94435947]\n",
      "[ 0.00064066 -0.00873672  0.03991421 -0.00508812  0.00030614  0.00018682\n",
      "  0.00722394  0.0048424   0.00313826 -0.00186302  0.00069234  0.00596249\n",
      "  0.05800894 -0.01894436]\n"
     ]
    }
   ],
   "source": [
    "supw = SGD(X, np.zeros(X.shape[1]), labels, 1e-8)\n",
    "supw = np.sum(supw,axis=0)\n",
    "print(supw)\n",
    "supw /= 1000\n",
    "print(supw) # this is the final value that we get , for W after all the iterations."
   ]
  },
  {
   "cell_type": "markdown",
   "metadata": {
    "id": "yPzJLciH4NrV"
   },
   "source": [
    "## Question 12\n",
    "\n",
    "Find the loss for the training data points if the model is learnt using the stochastic gradient descent as in question 11. Consider the loss to be defined as\n",
    "\n",
    "$$ \\sqrt{\\dfrac{1}{n}\\sum\\limits_{i=1}^{n} (y_i- \\hat{y}_i)^2}\n",
    "$$\n",
    "\n",
    "Where $\\hat{y}_i$ is the prediction for $i^{th}$ data point. "
   ]
  },
  {
   "cell_type": "code",
   "execution_count": 103,
   "metadata": {
    "colab": {
     "base_uri": "https://localhost:8080/"
    },
    "executionInfo": {
     "elapsed": 385,
     "status": "ok",
     "timestamp": 1665476103618,
     "user": {
      "displayName": "Nitin Kumar Jha",
      "userId": "04937771533360242308"
     },
     "user_tz": -330
    },
    "id": "w9usLAPeLNkt",
    "outputId": "49e86cab-5e98-40c9-d98f-b5744defea4d"
   },
   "outputs": [
    {
     "data": {
      "text/plain": [
       "8.805783230123094"
      ]
     },
     "execution_count": 103,
     "metadata": {},
     "output_type": "execute_result"
    }
   ],
   "source": [
    "sgd_y_hat = predict(X, supw)\n",
    "loss(labels, sgd_y_hat)"
   ]
  },
  {
   "cell_type": "markdown",
   "metadata": {},
   "source": [
    "In this case , it would seem that directly using the last found data, rather than average gives us a better result, but it is still better to use the average since if we have the last data point in same bad direction, it would give us a very inaccurate answer."
   ]
  },
  {
   "cell_type": "markdown",
   "metadata": {
    "id": "rfeamQM94x_N"
   },
   "source": [
    "## Question 13\n",
    "\n",
    "Find the loss for the test data points if the model is learnt using the stochastic gradient descent as in question 11. Consider the loss to be defined as\n",
    "\n",
    "$$ \\sqrt{\\dfrac{1}{n}\\sum\\limits_{i=1}^{n} (y_i- \\hat{y}_i)^2}\n",
    "$$\n",
    "\n",
    "Where $\\hat{y}_i$ is the prediction for $i^{th}$ data point. "
   ]
  },
  {
   "cell_type": "code",
   "execution_count": 104,
   "metadata": {
    "colab": {
     "base_uri": "https://localhost:8080/"
    },
    "executionInfo": {
     "elapsed": 6,
     "status": "ok",
     "timestamp": 1665476145088,
     "user": {
      "displayName": "Nitin Kumar Jha",
      "userId": "04937771533360242308"
     },
     "user_tz": -330
    },
    "id": "oF1xpNH845iH",
    "outputId": "479dd184-916d-4ea0-d349-c8f101ef7c12"
   },
   "outputs": [
    {
     "data": {
      "text/plain": [
       "8.535665480156311"
      ]
     },
     "execution_count": 104,
     "metadata": {},
     "output_type": "execute_result"
    }
   ],
   "source": [
    "sgd_y_test_hat = predict(X_test, supw)\n",
    "loss(test_labels, sgd_y_test_hat)"
   ]
  },
  {
   "cell_type": "markdown",
   "metadata": {
    "id": "muMOKLvY5D9O"
   },
   "source": [
    "# Section 2:\n",
    "\n",
    "**kernel Regression**"
   ]
  },
  {
   "cell_type": "markdown",
   "metadata": {
    "id": "pDAKRJua6rCU"
   },
   "source": [
    "We will generate the synthetic dataset for the kernel regression problem. Run the following cell to get the following variables:\n",
    "\n",
    "`X` = Training data matrix of shape $(n, d)$. In the given dataset $d = 1$. \n",
    "\n",
    "`y` = label vector corresponding to the training dataset"
   ]
  },
  {
   "cell_type": "code",
   "execution_count": null,
   "metadata": {
    "executionInfo": {
     "elapsed": 1893,
     "status": "ok",
     "timestamp": 1665476951880,
     "user": {
      "displayName": "Nitin Kumar Jha",
      "userId": "04937771533360242308"
     },
     "user_tz": -330
    },
    "id": "_WgICXZSnra0"
   },
   "outputs": [],
   "source": [
    "rng = np.random.default_rng(seed = 101)\n",
    "X = np.arange(-2, 2, 0.01).reshape(-1, 1) # from -2 to 2 , with a step of 0.01 , it is like linspace\n",
    "y = X**3 + rng.normal(0, 1, X.shape[0]).reshape(-1, 1) # this is the modification in the data.\n"
   ]
  },
  {
   "cell_type": "markdown",
   "metadata": {
    "id": "y_-9lyPm8aaj"
   },
   "source": [
    "## Question 14\n",
    "\n",
    "Plot the scatter plot between feature and the labels. Enter your answer as 0.\n",
    "\n",
    "**Answer**\n",
    "\n",
    "0"
   ]
  },
  {
   "cell_type": "code",
   "execution_count": 106,
   "metadata": {
    "colab": {
     "base_uri": "https://localhost:8080/",
     "height": 282
    },
    "executionInfo": {
     "elapsed": 692,
     "status": "ok",
     "timestamp": 1665476961398,
     "user": {
      "displayName": "Nitin Kumar Jha",
      "userId": "04937771533360242308"
     },
     "user_tz": -330
    },
    "id": "B12Nc2Sv80_s",
    "outputId": "db9e6785-aabc-47d2-ed48-9bba6cbd942d"
   },
   "outputs": [
    {
     "data": {
      "text/plain": [
       "<matplotlib.collections.PathCollection at 0x1ef636b2650>"
      ]
     },
     "execution_count": 106,
     "metadata": {},
     "output_type": "execute_result"
    },
    {
     "data": {
      "image/png": "[encoded data removed]",
      "text/plain": [
       "<Figure size 640x480 with 1 Axes>"
      ]
     },
     "metadata": {},
     "output_type": "display_data"
    }
   ],
   "source": [
    "plt.scatter(X,y)"
   ]
  },
  {
   "cell_type": "markdown",
   "metadata": {
    "id": "E3e-gQHg8z8x"
   },
   "source": [
    "## Question 15\n",
    "How many examples are there in the training dataset?"
   ]
  },
  {
   "cell_type": "code",
   "execution_count": 107,
   "metadata": {
    "colab": {
     "base_uri": "https://localhost:8080/"
    },
    "executionInfo": {
     "elapsed": 413,
     "status": "ok",
     "timestamp": 1665476966715,
     "user": {
      "displayName": "Nitin Kumar Jha",
      "userId": "04937771533360242308"
     },
     "user_tz": -330
    },
    "id": "xGeqMCV57ZJB",
    "outputId": "103568aa-1b88-4d65-fe5c-b93cba9b5210"
   },
   "outputs": [
    {
     "data": {
      "text/plain": [
       "(400, 1)"
      ]
     },
     "execution_count": 107,
     "metadata": {},
     "output_type": "execute_result"
    }
   ],
   "source": [
    "X.shape"
   ]
  },
  {
   "cell_type": "markdown",
   "metadata": {
    "id": "uPifeX-K9zuU"
   },
   "source": [
    "## Task:\n",
    "\n",
    "Add the dummy feature in the feature matrix `X`and reshape it to the shape $(d, n)$."
   ]
  },
  {
   "cell_type": "code",
   "execution_count": null,
   "metadata": {
    "executionInfo": {
     "elapsed": 406,
     "status": "ok",
     "timestamp": 1665477024571,
     "user": {
      "displayName": "Nitin Kumar Jha",
      "userId": "04937771533360242308"
     },
     "user_tz": -330
    },
    "id": "yduBBJQgujfE"
   },
   "outputs": [],
   "source": [
    "X_train = np.column_stack((np.ones(X.shape[0]), X.reshape(-1, 1))).T # dummy feature is important\n",
    "labels = y.reshape(-1, 1)"
   ]
  },
  {
   "cell_type": "markdown",
   "metadata": {
    "id": "HQtBOQua_HQB"
   },
   "source": [
    "## Question 16\n",
    "\n",
    "Our task is to apply the kernel regression with polynomial kernel of degree 3. We know that weight vector can be written as\n",
    "\n",
    "$$w = \\phi(\\mathbb{x})\\alpha$$"
   ]
  },
  {
   "cell_type": "markdown",
   "metadata": {},
   "source": [
    "the formula is alpha = K inverse * y , where K is any type of kernel"
   ]
  },
  {
   "cell_type": "code",
   "execution_count": 109,
   "metadata": {
    "executionInfo": {
     "elapsed": 3,
     "status": "ok",
     "timestamp": 1665476987299,
     "user": {
      "displayName": "Nitin Kumar Jha",
      "userId": "04937771533360242308"
     },
     "user_tz": -330
    },
    "id": "CVMDkgkNqCBG"
   },
   "outputs": [],
   "source": [
    "def PolyKernel(X, p):\n",
    "  return (X.T@X+1)**p"
   ]
  },
  {
   "cell_type": "code",
   "execution_count": null,
   "metadata": {
    "executionInfo": {
     "elapsed": 382,
     "status": "ok",
     "timestamp": 1665476986662,
     "user": {
      "displayName": "Nitin Kumar Jha",
      "userId": "04937771533360242308"
     },
     "user_tz": -330
    },
    "id": "MZdKeL8w0Uk0"
   },
   "outputs": [],
   "source": [
    "def coef(X_train, y,  p):\n",
    "  K = PolyKernel(X_train, p)\n",
    "  return (np.linalg.pinv(K))@y"
   ]
  },
  {
   "cell_type": "code",
   "execution_count": null,
   "metadata": {
    "colab": {
     "base_uri": "https://localhost:8080/"
    },
    "executionInfo": {
     "elapsed": 747,
     "status": "ok",
     "timestamp": 1665477028989,
     "user": {
      "displayName": "Nitin Kumar Jha",
      "userId": "04937771533360242308"
     },
     "user_tz": -330
    },
    "id": "1Ti9AolI0ksc",
    "outputId": "1185cb85-a545-4aaa-95cc-b2325da8c43a"
   },
   "outputs": [
    {
     "name": "stdout",
     "output_type": "stream",
     "text": [
      "(400, 1)\n",
      "[[-5.24851232e-03]\n",
      " [-5.08968829e-03]\n",
      " [-4.93287804e-03]\n",
      " [-4.77807135e-03]\n",
      " [-4.62525801e-03]\n",
      " [-4.47442782e-03]\n",
      " [-4.32557056e-03]\n",
      " [-4.17867602e-03]\n",
      " [-4.03373401e-03]\n",
      " [-3.89073431e-03]\n",
      " [-3.74966670e-03]\n",
      " [-3.61052099e-03]\n",
      " [-3.47328696e-03]\n",
      " [-3.33795440e-03]\n",
      " [-3.20451311e-03]\n",
      " [-3.07295287e-03]\n",
      " [-2.94326348e-03]\n",
      " [-2.81543473e-03]\n",
      " [-2.68945641e-03]\n",
      " [-2.56531831e-03]\n",
      " [-2.44301022e-03]\n",
      " [-2.32252194e-03]\n",
      " [-2.20384325e-03]\n",
      " [-2.08696394e-03]\n",
      " [-1.97187382e-03]\n",
      " [-1.85856266e-03]\n",
      " [-1.74702025e-03]\n",
      " [-1.63723640e-03]\n",
      " [-1.52920089e-03]\n",
      " [-1.42290351e-03]\n",
      " [-1.31833406e-03]\n",
      " [-1.21548232e-03]\n",
      " [-1.11433809e-03]\n",
      " [-1.01489115e-03]\n",
      " [-9.17131302e-04]\n",
      " [-8.21048333e-04]\n",
      " [-7.26632035e-04]\n",
      " [-6.33872199e-04]\n",
      " [-5.42758616e-04]\n",
      " [-4.53281077e-04]\n",
      " [-3.65429373e-04]\n",
      " [-2.79193295e-04]\n",
      " [-1.94562636e-04]\n",
      " [-1.11527185e-04]\n",
      " [-3.00767337e-05]\n",
      " [ 4.97989261e-05]\n",
      " [ 1.28110004e-04]\n",
      " [ 2.04866708e-04]\n",
      " [ 2.80079247e-04]\n",
      " [ 3.53757831e-04]\n",
      " [ 4.25912667e-04]\n",
      " [ 4.96553966e-04]\n",
      " [ 5.65691935e-04]\n",
      " [ 6.33336784e-04]\n",
      " [ 6.99498721e-04]\n",
      " [ 7.64187955e-04]\n",
      " [ 8.27414695e-04]\n",
      " [ 8.89189150e-04]\n",
      " [ 9.49521529e-04]\n",
      " [ 1.00842204e-03]\n",
      " [ 1.06590089e-03]\n",
      " [ 1.12196830e-03]\n",
      " [ 1.17663446e-03]\n",
      " [ 1.22990959e-03]\n",
      " [ 1.28180389e-03]\n",
      " [ 1.33232758e-03]\n",
      " [ 1.38149087e-03]\n",
      " [ 1.42930396e-03]\n",
      " [ 1.47577706e-03]\n",
      " [ 1.52092038e-03]\n",
      " [ 1.56474413e-03]\n",
      " [ 1.60725853e-03]\n",
      " [ 1.64847376e-03]\n",
      " [ 1.68840006e-03]\n",
      " [ 1.72704762e-03]\n",
      " [ 1.76442665e-03]\n",
      " [ 1.80054736e-03]\n",
      " [ 1.83541997e-03]\n",
      " [ 1.86905468e-03]\n",
      " [ 1.90146169e-03]\n",
      " [ 1.93265123e-03]\n",
      " [ 1.96263349e-03]\n",
      " [ 1.99141868e-03]\n",
      " [ 2.01901702e-03]\n",
      " [ 2.04543872e-03]\n",
      " [ 2.07069398e-03]\n",
      " [ 2.09479300e-03]\n",
      " [ 2.11774601e-03]\n",
      " [ 2.13956321e-03]\n",
      " [ 2.16025480e-03]\n",
      " [ 2.17983100e-03]\n",
      " [ 2.19830201e-03]\n",
      " [ 2.21567805e-03]\n",
      " [ 2.23196932e-03]\n",
      " [ 2.24718604e-03]\n",
      " [ 2.26133840e-03]\n",
      " [ 2.27443662e-03]\n",
      " [ 2.28649091e-03]\n",
      " [ 2.29751148e-03]\n",
      " [ 2.30750854e-03]\n",
      " [ 2.31649228e-03]\n",
      " [ 2.32447294e-03]\n",
      " [ 2.33146070e-03]\n",
      " [ 2.33746579e-03]\n",
      " [ 2.34249840e-03]\n",
      " [ 2.34656875e-03]\n",
      " [ 2.34968706e-03]\n",
      " [ 2.35186351e-03]\n",
      " [ 2.35310834e-03]\n",
      " [ 2.35343174e-03]\n",
      " [ 2.35284392e-03]\n",
      " [ 2.35135509e-03]\n",
      " [ 2.34897546e-03]\n",
      " [ 2.34571524e-03]\n",
      " [ 2.34158464e-03]\n",
      " [ 2.33659387e-03]\n",
      " [ 2.33075313e-03]\n",
      " [ 2.32407264e-03]\n",
      " [ 2.31656260e-03]\n",
      " [ 2.30823323e-03]\n",
      " [ 2.29909472e-03]\n",
      " [ 2.28915730e-03]\n",
      " [ 2.27843116e-03]\n",
      " [ 2.26692653e-03]\n",
      " [ 2.25465359e-03]\n",
      " [ 2.24162258e-03]\n",
      " [ 2.22784369e-03]\n",
      " [ 2.21332713e-03]\n",
      " [ 2.19808311e-03]\n",
      " [ 2.18212185e-03]\n",
      " [ 2.16545354e-03]\n",
      " [ 2.14808840e-03]\n",
      " [ 2.13003664e-03]\n",
      " [ 2.11130847e-03]\n",
      " [ 2.09191409e-03]\n",
      " [ 2.07186371e-03]\n",
      " [ 2.05116755e-03]\n",
      " [ 2.02983581e-03]\n",
      " [ 2.00787869e-03]\n",
      " [ 1.98530642e-03]\n",
      " [ 1.96212920e-03]\n",
      " [ 1.93835723e-03]\n",
      " [ 1.91400073e-03]\n",
      " [ 1.88906990e-03]\n",
      " [ 1.86357495e-03]\n",
      " [ 1.83752610e-03]\n",
      " [ 1.81093355e-03]\n",
      " [ 1.78380751e-03]\n",
      " [ 1.75615818e-03]\n",
      " [ 1.72799579e-03]\n",
      " [ 1.69933053e-03]\n",
      " [ 1.67017261e-03]\n",
      " [ 1.64053225e-03]\n",
      " [ 1.61041965e-03]\n",
      " [ 1.57984503e-03]\n",
      " [ 1.54881858e-03]\n",
      " [ 1.51735052e-03]\n",
      " [ 1.48545106e-03]\n",
      " [ 1.45313041e-03]\n",
      " [ 1.42039877e-03]\n",
      " [ 1.38726636e-03]\n",
      " [ 1.35374338e-03]\n",
      " [ 1.31984005e-03]\n",
      " [ 1.28556656e-03]\n",
      " [ 1.25093314e-03]\n",
      " [ 1.21594998e-03]\n",
      " [ 1.18062730e-03]\n",
      " [ 1.14497531e-03]\n",
      " [ 1.10900421e-03]\n",
      " [ 1.07272422e-03]\n",
      " [ 1.03614553e-03]\n",
      " [ 9.99278375e-04]\n",
      " [ 9.62132946e-04]\n",
      " [ 9.24719457e-04]\n",
      " [ 8.87048116e-04]\n",
      " [ 8.49129132e-04]\n",
      " [ 8.10972713e-04]\n",
      " [ 7.72589070e-04]\n",
      " [ 7.33988409e-04]\n",
      " [ 6.95180942e-04]\n",
      " [ 6.56176875e-04]\n",
      " [ 6.16986418e-04]\n",
      " [ 5.77619781e-04]\n",
      " [ 5.38087170e-04]\n",
      " [ 4.98398797e-04]\n",
      " [ 4.58564869e-04]\n",
      " [ 4.18595594e-04]\n",
      " [ 3.78501183e-04]\n",
      " [ 3.38291844e-04]\n",
      " [ 2.97977785e-04]\n",
      " [ 2.57569216e-04]\n",
      " [ 2.17076345e-04]\n",
      " [ 1.76509382e-04]\n",
      " [ 1.35878534e-04]\n",
      " [ 9.51940114e-05]\n",
      " [ 5.44660222e-05]\n",
      " [ 1.37047755e-05]\n",
      " [-2.70795199e-05]\n",
      " [-6.78766551e-05]\n",
      " [-1.08676421e-04]\n",
      " [-1.49468610e-04]\n",
      " [-1.90243012e-04]\n",
      " [-2.30989418e-04]\n",
      " [-2.71697620e-04]\n",
      " [-3.12357409e-04]\n",
      " [-3.52958576e-04]\n",
      " [-3.93490912e-04]\n",
      " [-4.33944208e-04]\n",
      " [-4.74308256e-04]\n",
      " [-5.14572847e-04]\n",
      " [-5.54727771e-04]\n",
      " [-5.94762821e-04]\n",
      " [-6.34667786e-04]\n",
      " [-6.74432460e-04]\n",
      " [-7.14046631e-04]\n",
      " [-7.53500093e-04]\n",
      " [-7.92782635e-04]\n",
      " [-8.31884049e-04]\n",
      " [-8.70794127e-04]\n",
      " [-9.09502659e-04]\n",
      " [-9.47999436e-04]\n",
      " [-9.86274250e-04]\n",
      " [-1.02431689e-03]\n",
      " [-1.06211715e-03]\n",
      " [-1.09966482e-03]\n",
      " [-1.13694970e-03]\n",
      " [-1.17396156e-03]\n",
      " [-1.21069021e-03]\n",
      " [-1.24712544e-03]\n",
      " [-1.28325703e-03]\n",
      " [-1.31907477e-03]\n",
      " [-1.35456847e-03]\n",
      " [-1.38972790e-03]\n",
      " [-1.42454287e-03]\n",
      " [-1.45900316e-03]\n",
      " [-1.49309856e-03]\n",
      " [-1.52681886e-03]\n",
      " [-1.56015386e-03]\n",
      " [-1.59309335e-03]\n",
      " [-1.62562711e-03]\n",
      " [-1.65774495e-03]\n",
      " [-1.68943664e-03]\n",
      " [-1.72069199e-03]\n",
      " [-1.75150077e-03]\n",
      " [-1.78185280e-03]\n",
      " [-1.81173784e-03]\n",
      " [-1.84114570e-03]\n",
      " [-1.87006617e-03]\n",
      " [-1.89848904e-03]\n",
      " [-1.92640409e-03]\n",
      " [-1.95380113e-03]\n",
      " [-1.98066994e-03]\n",
      " [-2.00700031e-03]\n",
      " [-2.03278204e-03]\n",
      " [-2.05800491e-03]\n",
      " [-2.08265872e-03]\n",
      " [-2.10673325e-03]\n",
      " [-2.13021830e-03]\n",
      " [-2.15310367e-03]\n",
      " [-2.17537913e-03]\n",
      " [-2.19703449e-03]\n",
      " [-2.21805953e-03]\n",
      " [-2.23844405e-03]\n",
      " [-2.25817783e-03]\n",
      " [-2.27725066e-03]\n",
      " [-2.29565235e-03]\n",
      " [-2.31337268e-03]\n",
      " [-2.33040143e-03]\n",
      " [-2.34672841e-03]\n",
      " [-2.36234340e-03]\n",
      " [-2.37723619e-03]\n",
      " [-2.39139658e-03]\n",
      " [-2.40481436e-03]\n",
      " [-2.41747931e-03]\n",
      " [-2.42938123e-03]\n",
      " [-2.44050991e-03]\n",
      " [-2.45085515e-03]\n",
      " [-2.46040672e-03]\n",
      " [-2.46915443e-03]\n",
      " [-2.47708806e-03]\n",
      " [-2.48419741e-03]\n",
      " [-2.49047226e-03]\n",
      " [-2.49590241e-03]\n",
      " [-2.50047766e-03]\n",
      " [-2.50418778e-03]\n",
      " [-2.50702257e-03]\n",
      " [-2.50897183e-03]\n",
      " [-2.51002534e-03]\n",
      " [-2.51017289e-03]\n",
      " [-2.50940428e-03]\n",
      " [-2.50770930e-03]\n",
      " [-2.50507774e-03]\n",
      " [-2.50149938e-03]\n",
      " [-2.49696403e-03]\n",
      " [-2.49146147e-03]\n",
      " [-2.48498149e-03]\n",
      " [-2.47751389e-03]\n",
      " [-2.46904845e-03]\n",
      " [-2.45957497e-03]\n",
      " [-2.44908324e-03]\n",
      " [-2.43756304e-03]\n",
      " [-2.42500418e-03]\n",
      " [-2.41139644e-03]\n",
      " [-2.39672961e-03]\n",
      " [-2.38099348e-03]\n",
      " [-2.36417785e-03]\n",
      " [-2.34627250e-03]\n",
      " [-2.32726723e-03]\n",
      " [-2.30715183e-03]\n",
      " [-2.28591609e-03]\n",
      " [-2.26354980e-03]\n",
      " [-2.24004275e-03]\n",
      " [-2.21538474e-03]\n",
      " [-2.18956555e-03]\n",
      " [-2.16257497e-03]\n",
      " [-2.13440280e-03]\n",
      " [-2.10503883e-03]\n",
      " [-2.07447285e-03]\n",
      " [-2.04269464e-03]\n",
      " [-2.00969401e-03]\n",
      " [-1.97546074e-03]\n",
      " [-1.93998463e-03]\n",
      " [-1.90325545e-03]\n",
      " [-1.86526302e-03]\n",
      " [-1.82599711e-03]\n",
      " [-1.78544752e-03]\n",
      " [-1.74360404e-03]\n",
      " [-1.70045646e-03]\n",
      " [-1.65599457e-03]\n",
      " [-1.61020817e-03]\n",
      " [-1.56308703e-03]\n",
      " [-1.51462097e-03]\n",
      " [-1.46479976e-03]\n",
      " [-1.41361320e-03]\n",
      " [-1.36105107e-03]\n",
      " [-1.30710318e-03]\n",
      " [-1.25175931e-03]\n",
      " [-1.19500924e-03]\n",
      " [-1.13684279e-03]\n",
      " [-1.07724972e-03]\n",
      " [-1.01621985e-03]\n",
      " [-9.53742948e-04]\n",
      " [-8.89808816e-04]\n",
      " [-8.24407243e-04]\n",
      " [-7.57528020e-04]\n",
      " [-6.89160939e-04]\n",
      " [-6.19295791e-04]\n",
      " [-5.47922367e-04]\n",
      " [-4.75030458e-04]\n",
      " [-4.00609855e-04]\n",
      " [-3.24650349e-04]\n",
      " [-2.47141732e-04]\n",
      " [-1.68073794e-04]\n",
      " [-8.74363279e-05]\n",
      " [-5.21912352e-06]\n",
      " [ 7.85880277e-05]\n",
      " [ 1.63995334e-04]\n",
      " [ 2.51013006e-04]\n",
      " [ 3.39651250e-04]\n",
      " [ 4.29920277e-04]\n",
      " [ 5.21830294e-04]\n",
      " [ 6.15391511e-04]\n",
      " [ 7.10614137e-04]\n",
      " [ 8.07508381e-04]\n",
      " [ 9.06084450e-04]\n",
      " [ 1.00635255e-03]\n",
      " [ 1.10832290e-03]\n",
      " [ 1.21200570e-03]\n",
      " [ 1.31741117e-03]\n",
      " [ 1.42454950e-03]\n",
      " [ 1.53343091e-03]\n",
      " [ 1.64406561e-03]\n",
      " [ 1.75646381e-03]\n",
      " [ 1.87063571e-03]\n",
      " [ 1.98659153e-03]\n",
      " [ 2.10434147e-03]\n",
      " [ 2.22389575e-03]\n",
      " [ 2.34526456e-03]\n",
      " [ 2.46845813e-03]\n",
      " [ 2.59348665e-03]\n",
      " [ 2.72036034e-03]\n",
      " [ 2.84908941e-03]\n",
      " [ 2.97968406e-03]\n",
      " [ 3.11215451e-03]\n",
      " [ 3.24651096e-03]\n",
      " [ 3.38276362e-03]\n",
      " [ 3.52092270e-03]\n",
      " [ 3.66099841e-03]\n",
      " [ 3.80300096e-03]\n",
      " [ 3.94694055e-03]\n",
      " [ 4.09282741e-03]\n",
      " [ 4.24067172e-03]\n",
      " [ 4.39048371e-03]\n",
      " [ 4.54227359e-03]\n",
      " [ 4.69605155e-03]\n",
      " [ 4.85182782e-03]\n",
      " [ 5.00961259e-03]\n",
      " [ 5.16941608e-03]\n",
      " [ 5.33124850e-03]\n",
      " [ 5.49512005e-03]]\n"
     ]
    }
   ],
   "source": [
    "coeff = coef(X_train, labels, 3)\n",
    "print(coeff.shape) \n",
    "print(coeff) # this is equal to alpha = K inverse * y"
   ]
  },
  {
   "cell_type": "markdown",
   "metadata": {
    "id": "Xq0YtsGjA7IK"
   },
   "source": [
    "## Question 17\n",
    "\n",
    "Find the sum of the predictions made by the kernel regression model of degree 3.\n"
   ]
  },
  {
   "cell_type": "code",
   "execution_count": 116,
   "metadata": {
    "executionInfo": {
     "elapsed": 1133,
     "status": "ok",
     "timestamp": 1665477044189,
     "user": {
      "displayName": "Nitin Kumar Jha",
      "userId": "04937771533360242308"
     },
     "user_tz": -330
    },
    "id": "YAqln4GZ05dg"
   },
   "outputs": [],
   "source": [
    "def kernel_predict(X, y, p):\n",
    "  coeff = coef(X, y, p)\n",
    "  K = PolyKernel(X, p)\n",
    "  return K@coeff # we find K @ alpha , which is equivalent to weight."
   ]
  },
  {
   "cell_type": "code",
   "execution_count": 117,
   "metadata": {
    "colab": {
     "base_uri": "https://localhost:8080/"
    },
    "executionInfo": {
     "elapsed": 410,
     "status": "ok",
     "timestamp": 1665477047304,
     "user": {
      "displayName": "Nitin Kumar Jha",
      "userId": "04937771533360242308"
     },
     "user_tz": -330
    },
    "id": "XSPsm2TduAkZ",
    "outputId": "0da45507-8612-4b3b-cac7-2c0f9c58a35e"
   },
   "outputs": [
    {
     "name": "stdout",
     "output_type": "stream",
     "text": [
      "[[-7.90905857e+00]\n",
      " [-7.79223619e+00]\n",
      " [-7.67659391e+00]\n",
      " [-7.56212573e+00]\n",
      " [-7.44882563e+00]\n",
      " [-7.33668763e+00]\n",
      " [-7.22570571e+00]\n",
      " [-7.11587386e+00]\n",
      " [-7.00718609e+00]\n",
      " [-6.89963640e+00]\n",
      " [-6.79321876e+00]\n",
      " [-6.68792719e+00]\n",
      " [-6.58375568e+00]\n",
      " [-6.48069822e+00]\n",
      " [-6.37874881e+00]\n",
      " [-6.27790144e+00]\n",
      " [-6.17815011e+00]\n",
      " [-6.07948882e+00]\n",
      " [-5.98191156e+00]\n",
      " [-5.88541233e+00]\n",
      " [-5.78998512e+00]\n",
      " [-5.69562392e+00]\n",
      " [-5.60232274e+00]\n",
      " [-5.51007557e+00]\n",
      " [-5.41887641e+00]\n",
      " [-5.32871925e+00]\n",
      " [-5.23959808e+00]\n",
      " [-5.15150690e+00]\n",
      " [-5.06443972e+00]\n",
      " [-4.97839051e+00]\n",
      " [-4.89335329e+00]\n",
      " [-4.80932204e+00]\n",
      " [-4.72629076e+00]\n",
      " [-4.64425344e+00]\n",
      " [-4.56320409e+00]\n",
      " [-4.48313670e+00]\n",
      " [-4.40404526e+00]\n",
      " [-4.32592376e+00]\n",
      " [-4.24876622e+00]\n",
      " [-4.17256661e+00]\n",
      " [-4.09731894e+00]\n",
      " [-4.02301720e+00]\n",
      " [-3.94965538e+00]\n",
      " [-3.87722749e+00]\n",
      " [-3.80572752e+00]\n",
      " [-3.73514946e+00]\n",
      " [-3.66548731e+00]\n",
      " [-3.59673507e+00]\n",
      " [-3.52888672e+00]\n",
      " [-3.46193628e+00]\n",
      " [-3.39587772e+00]\n",
      " [-3.33070506e+00]\n",
      " [-3.26641228e+00]\n",
      " [-3.20299337e+00]\n",
      " [-3.14044235e+00]\n",
      " [-3.07875319e+00]\n",
      " [-3.01791990e+00]\n",
      " [-2.95793647e+00]\n",
      " [-2.89879690e+00]\n",
      " [-2.84049518e+00]\n",
      " [-2.78302531e+00]\n",
      " [-2.72638128e+00]\n",
      " [-2.67055710e+00]\n",
      " [-2.61554675e+00]\n",
      " [-2.56134423e+00]\n",
      " [-2.50794354e+00]\n",
      " [-2.45533868e+00]\n",
      " [-2.40352363e+00]\n",
      " [-2.35249239e+00]\n",
      " [-2.30223897e+00]\n",
      " [-2.25275735e+00]\n",
      " [-2.20404153e+00]\n",
      " [-2.15608551e+00]\n",
      " [-2.10888328e+00]\n",
      " [-2.06242884e+00]\n",
      " [-2.01671619e+00]\n",
      " [-1.97173931e+00]\n",
      " [-1.92749221e+00]\n",
      " [-1.88396888e+00]\n",
      " [-1.84116331e+00]\n",
      " [-1.79906951e+00]\n",
      " [-1.75768147e+00]\n",
      " [-1.71699317e+00]\n",
      " [-1.67699863e+00]\n",
      " [-1.63769183e+00]\n",
      " [-1.59906678e+00]\n",
      " [-1.56111746e+00]\n",
      " [-1.52383787e+00]\n",
      " [-1.48722200e+00]\n",
      " [-1.45126387e+00]\n",
      " [-1.41595745e+00]\n",
      " [-1.38129674e+00]\n",
      " [-1.34727574e+00]\n",
      " [-1.31388845e+00]\n",
      " [-1.28112886e+00]\n",
      " [-1.24899097e+00]\n",
      " [-1.21746877e+00]\n",
      " [-1.18655626e+00]\n",
      " [-1.15624744e+00]\n",
      " [-1.12653629e+00]\n",
      " [-1.09741682e+00]\n",
      " [-1.06888302e+00]\n",
      " [-1.04092888e+00]\n",
      " [-1.01354841e+00]\n",
      " [-9.86735595e-01]\n",
      " [-9.60484434e-01]\n",
      " [-9.34788922e-01]\n",
      " [-9.09643056e-01]\n",
      " [-8.85040830e-01]\n",
      " [-8.60976240e-01]\n",
      " [-8.37443282e-01]\n",
      " [-8.14435952e-01]\n",
      " [-7.91948245e-01]\n",
      " [-7.69974157e-01]\n",
      " [-7.48507683e-01]\n",
      " [-7.27542820e-01]\n",
      " [-7.07073562e-01]\n",
      " [-6.87093906e-01]\n",
      " [-6.67597847e-01]\n",
      " [-6.48579381e-01]\n",
      " [-6.30032503e-01]\n",
      " [-6.11951209e-01]\n",
      " [-5.94329496e-01]\n",
      " [-5.77161357e-01]\n",
      " [-5.60440790e-01]\n",
      " [-5.44161790e-01]\n",
      " [-5.28318352e-01]\n",
      " [-5.12904472e-01]\n",
      " [-4.97914146e-01]\n",
      " [-4.83341369e-01]\n",
      " [-4.69180137e-01]\n",
      " [-4.55424447e-01]\n",
      " [-4.42068292e-01]\n",
      " [-4.29105670e-01]\n",
      " [-4.16530575e-01]\n",
      " [-4.04337004e-01]\n",
      " [-3.92518951e-01]\n",
      " [-3.81070414e-01]\n",
      " [-3.69985386e-01]\n",
      " [-3.59257865e-01]\n",
      " [-3.48881846e-01]\n",
      " [-3.38851323e-01]\n",
      " [-3.29160294e-01]\n",
      " [-3.19802753e-01]\n",
      " [-3.10772697e-01]\n",
      " [-3.02064121e-01]\n",
      " [-2.93671020e-01]\n",
      " [-2.85587391e-01]\n",
      " [-2.77807228e-01]\n",
      " [-2.70324528e-01]\n",
      " [-2.63133287e-01]\n",
      " [-2.56227499e-01]\n",
      " [-2.49601161e-01]\n",
      " [-2.43248268e-01]\n",
      " [-2.37162816e-01]\n",
      " [-2.31338801e-01]\n",
      " [-2.25770218e-01]\n",
      " [-2.20451062e-01]\n",
      " [-2.15375331e-01]\n",
      " [-2.10537018e-01]\n",
      " [-2.05930120e-01]\n",
      " [-2.01548633e-01]\n",
      " [-1.97386552e-01]\n",
      " [-1.93437873e-01]\n",
      " [-1.89696591e-01]\n",
      " [-1.86156703e-01]\n",
      " [-1.82812203e-01]\n",
      " [-1.79657088e-01]\n",
      " [-1.76685353e-01]\n",
      " [-1.73890994e-01]\n",
      " [-1.71268006e-01]\n",
      " [-1.68810385e-01]\n",
      " [-1.66512128e-01]\n",
      " [-1.64367228e-01]\n",
      " [-1.62369683e-01]\n",
      " [-1.60513487e-01]\n",
      " [-1.58792637e-01]\n",
      " [-1.57201128e-01]\n",
      " [-1.55732955e-01]\n",
      " [-1.54382115e-01]\n",
      " [-1.53142603e-01]\n",
      " [-1.52008415e-01]\n",
      " [-1.50973546e-01]\n",
      " [-1.50031992e-01]\n",
      " [-1.49177749e-01]\n",
      " [-1.48404812e-01]\n",
      " [-1.47707178e-01]\n",
      " [-1.47078840e-01]\n",
      " [-1.46513797e-01]\n",
      " [-1.46006042e-01]\n",
      " [-1.45549572e-01]\n",
      " [-1.45138382e-01]\n",
      " [-1.44766468e-01]\n",
      " [-1.44427826e-01]\n",
      " [-1.44116451e-01]\n",
      " [-1.43826338e-01]\n",
      " [-1.43551485e-01]\n",
      " [-1.43285886e-01]\n",
      " [-1.43023537e-01]\n",
      " [-1.42758433e-01]\n",
      " [-1.42484570e-01]\n",
      " [-1.42195945e-01]\n",
      " [-1.41886552e-01]\n",
      " [-1.41550387e-01]\n",
      " [-1.41181446e-01]\n",
      " [-1.40773725e-01]\n",
      " [-1.40321219e-01]\n",
      " [-1.39817923e-01]\n",
      " [-1.39257834e-01]\n",
      " [-1.38634948e-01]\n",
      " [-1.37943259e-01]\n",
      " [-1.37176764e-01]\n",
      " [-1.36329458e-01]\n",
      " [-1.35395336e-01]\n",
      " [-1.34368396e-01]\n",
      " [-1.33242631e-01]\n",
      " [-1.32012038e-01]\n",
      " [-1.30670612e-01]\n",
      " [-1.29212350e-01]\n",
      " [-1.27631246e-01]\n",
      " [-1.25921297e-01]\n",
      " [-1.24076498e-01]\n",
      " [-1.22090845e-01]\n",
      " [-1.19958333e-01]\n",
      " [-1.17672958e-01]\n",
      " [-1.15228716e-01]\n",
      " [-1.12619602e-01]\n",
      " [-1.09839613e-01]\n",
      " [-1.06882743e-01]\n",
      " [-1.03742988e-01]\n",
      " [-1.00414344e-01]\n",
      " [-9.68908076e-02]\n",
      " [-9.31663730e-02]\n",
      " [-8.92350364e-02]\n",
      " [-8.50907936e-02]\n",
      " [-8.07276400e-02]\n",
      " [-7.61395714e-02]\n",
      " [-7.13205835e-02]\n",
      " [-6.62646718e-02]\n",
      " [-6.09658321e-02]\n",
      " [-5.54180601e-02]\n",
      " [-4.96153513e-02]\n",
      " [-4.35517014e-02]\n",
      " [-3.72211062e-02]\n",
      " [-3.06175612e-02]\n",
      " [-2.37350621e-02]\n",
      " [-1.65676046e-02]\n",
      " [-9.10918438e-03]\n",
      " [-1.35379701e-03]\n",
      " [ 6.70456179e-03]\n",
      " [ 1.50718964e-02]\n",
      " [ 2.37542111e-02]\n",
      " [ 3.27575103e-02]\n",
      " [ 4.20877983e-02]\n",
      " [ 5.17510794e-02]\n",
      " [ 6.17533580e-02]\n",
      " [ 7.21006385e-02]\n",
      " [ 8.27989251e-02]\n",
      " [ 9.38542223e-02]\n",
      " [ 1.05272534e-01]\n",
      " [ 1.17059865e-01]\n",
      " [ 1.29222220e-01]\n",
      " [ 1.41765603e-01]\n",
      " [ 1.54696017e-01]\n",
      " [ 1.68019469e-01]\n",
      " [ 1.81741961e-01]\n",
      " [ 1.95869499e-01]\n",
      " [ 2.10408086e-01]\n",
      " [ 2.25363727e-01]\n",
      " [ 2.40742426e-01]\n",
      " [ 2.56550188e-01]\n",
      " [ 2.72793016e-01]\n",
      " [ 2.89476916e-01]\n",
      " [ 3.06607892e-01]\n",
      " [ 3.24191948e-01]\n",
      " [ 3.42235087e-01]\n",
      " [ 3.60743316e-01]\n",
      " [ 3.79722637e-01]\n",
      " [ 3.99179056e-01]\n",
      " [ 4.19118577e-01]\n",
      " [ 4.39547203e-01]\n",
      " [ 4.60470940e-01]\n",
      " [ 4.81895792e-01]\n",
      " [ 5.03827762e-01]\n",
      " [ 5.26272856e-01]\n",
      " [ 5.49237078e-01]\n",
      " [ 5.72726431e-01]\n",
      " [ 5.96746921e-01]\n",
      " [ 6.21304552e-01]\n",
      " [ 6.46405328e-01]\n",
      " [ 6.72055253e-01]\n",
      " [ 6.98260332e-01]\n",
      " [ 7.25026569e-01]\n",
      " [ 7.52359969e-01]\n",
      " [ 7.80266535e-01]\n",
      " [ 8.08752272e-01]\n",
      " [ 8.37823185e-01]\n",
      " [ 8.67485278e-01]\n",
      " [ 8.97744554e-01]\n",
      " [ 9.28607020e-01]\n",
      " [ 9.60078678e-01]\n",
      " [ 9.92165533e-01]\n",
      " [ 1.02487359e+00]\n",
      " [ 1.05820885e+00]\n",
      " [ 1.09217732e+00]\n",
      " [ 1.12678501e+00]\n",
      " [ 1.16203792e+00]\n",
      " [ 1.19794205e+00]\n",
      " [ 1.23450340e+00]\n",
      " [ 1.27172799e+00]\n",
      " [ 1.30962182e+00]\n",
      " [ 1.34819088e+00]\n",
      " [ 1.38744119e+00]\n",
      " [ 1.42737875e+00]\n",
      " [ 1.46800957e+00]\n",
      " [ 1.50933964e+00]\n",
      " [ 1.55137497e+00]\n",
      " [ 1.59412157e+00]\n",
      " [ 1.63758544e+00]\n",
      " [ 1.68177259e+00]\n",
      " [ 1.72668901e+00]\n",
      " [ 1.77234072e+00]\n",
      " [ 1.81873372e+00]\n",
      " [ 1.86587401e+00]\n",
      " [ 1.91376760e+00]\n",
      " [ 1.96242049e+00]\n",
      " [ 2.01183868e+00]\n",
      " [ 2.06202819e+00]\n",
      " [ 2.11299501e+00]\n",
      " [ 2.16474514e+00]\n",
      " [ 2.21728460e+00]\n",
      " [ 2.27061939e+00]\n",
      " [ 2.32475551e+00]\n",
      " [ 2.37969897e+00]\n",
      " [ 2.43545576e+00]\n",
      " [ 2.49203190e+00]\n",
      " [ 2.54943339e+00]\n",
      " [ 2.60766624e+00]\n",
      " [ 2.66673644e+00]\n",
      " [ 2.72665000e+00]\n",
      " [ 2.78741293e+00]\n",
      " [ 2.84903123e+00]\n",
      " [ 2.91151091e+00]\n",
      " [ 2.97485796e+00]\n",
      " [ 3.03907840e+00]\n",
      " [ 3.10417823e+00]\n",
      " [ 3.17016345e+00]\n",
      " [ 3.23704006e+00]\n",
      " [ 3.30481408e+00]\n",
      " [ 3.37349150e+00]\n",
      " [ 3.44307834e+00]\n",
      " [ 3.51358058e+00]\n",
      " [ 3.58500425e+00]\n",
      " [ 3.65735534e+00]\n",
      " [ 3.73063985e+00]\n",
      " [ 3.80486380e+00]\n",
      " [ 3.88003318e+00]\n",
      " [ 3.95615401e+00]\n",
      " [ 4.03323227e+00]\n",
      " [ 4.11127399e+00]\n",
      " [ 4.19028516e+00]\n",
      " [ 4.27027179e+00]\n",
      " [ 4.35123988e+00]\n",
      " [ 4.43319543e+00]\n",
      " [ 4.51614446e+00]\n",
      " [ 4.60009296e+00]\n",
      " [ 4.68504694e+00]\n",
      " [ 4.77101240e+00]\n",
      " [ 4.85799536e+00]\n",
      " [ 4.94600180e+00]\n",
      " [ 5.03503774e+00]\n",
      " [ 5.12510918e+00]\n",
      " [ 5.21622213e+00]\n",
      " [ 5.30838259e+00]\n",
      " [ 5.40159656e+00]\n",
      " [ 5.49587005e+00]\n",
      " [ 5.59120906e+00]\n",
      " [ 5.68761960e+00]\n",
      " [ 5.78510767e+00]\n",
      " [ 5.88367927e+00]\n",
      " [ 5.98334042e+00]\n",
      " [ 6.08409711e+00]\n",
      " [ 6.18595535e+00]\n",
      " [ 6.28892114e+00]\n",
      " [ 6.39300049e+00]\n",
      " [ 6.49819940e+00]\n",
      " [ 6.60452388e+00]\n",
      " [ 6.71197993e+00]\n",
      " [ 6.82057355e+00]\n",
      " [ 6.93031075e+00]\n",
      " [ 7.04119754e+00]\n",
      " [ 7.15323991e+00]\n",
      " [ 7.26644388e+00]\n",
      " [ 7.38081544e+00]\n",
      " [ 7.49636060e+00]\n",
      " [ 7.61308537e+00]\n",
      " [ 7.73099575e+00]\n",
      " [ 7.85009774e+00]\n",
      " [ 7.97039735e+00]\n",
      " [ 8.09190058e+00]]\n"
     ]
    }
   ],
   "source": [
    "yp = kernel_predict(X.T, labels, 3)\n",
    "print(yp)"
   ]
  },
  {
   "cell_type": "markdown",
   "metadata": {
    "id": "pXRpijIeCcSr"
   },
   "source": [
    "## Question 18\n",
    "\n",
    "Find the loss for the training data points. Consider the loss to be defined as\n",
    "\n",
    "$$ \\sqrt{\\dfrac{1}{n}\\sum\\limits_{i=1}^{n} (y_i- \\hat{y}_i)^2}\n",
    "$$\n",
    "\n",
    "Where $\\hat{y}_i$ is the prediction for $i^{th}$ data point. "
   ]
  },
  {
   "cell_type": "code",
   "execution_count": 118,
   "metadata": {
    "colab": {
     "base_uri": "https://localhost:8080/"
    },
    "executionInfo": {
     "elapsed": 805,
     "status": "ok",
     "timestamp": 1665477108116,
     "user": {
      "displayName": "Nitin Kumar Jha",
      "userId": "04937771533360242308"
     },
     "user_tz": -330
    },
    "id": "E97fZyfXK3a7",
    "outputId": "0564fcb2-abad-4e89-d1f0-e32922622816"
   },
   "outputs": [
    {
     "name": "stdout",
     "output_type": "stream",
     "text": [
      "1.0061212525621972\n"
     ]
    },
    {
     "name": "stderr",
     "output_type": "stream",
     "text": [
      "C:\\Users\\Om\\AppData\\Local\\Temp\\ipykernel_6888\\3883326603.py:7: DeprecationWarning: Conversion of an array with ndim > 0 to a scalar is deprecated, and will error in future. Ensure you extract a single element from your array before performing this operation. (Deprecated NumPy 1.25.)\n",
      "  return math.sqrt(ans)\n"
     ]
    }
   ],
   "source": [
    "print(loss(y, yp))"
   ]
  },
  {
   "cell_type": "markdown",
   "metadata": {
    "id": "nGpw3zpI65rm"
   },
   "source": [
    "### Test dataset\n",
    "\n",
    "run the following cell to get the test data matrix `X_test` and corresponding label vector `y_test`."
   ]
  },
  {
   "cell_type": "code",
   "execution_count": 119,
   "metadata": {
    "colab": {
     "base_uri": "https://localhost:8080/",
     "height": 282
    },
    "executionInfo": {
     "elapsed": 705,
     "status": "ok",
     "timestamp": 1665477113748,
     "user": {
      "displayName": "Nitin Kumar Jha",
      "userId": "04937771533360242308"
     },
     "user_tz": -330
    },
    "id": "fLNDYH_B67kN",
    "outputId": "ed6a212a-d909-4cfb-f5b5-e3220d3da95c"
   },
   "outputs": [
    {
     "data": {
      "text/plain": [
       "<matplotlib.collections.PathCollection at 0x1ef635da690>"
      ]
     },
     "execution_count": 119,
     "metadata": {},
     "output_type": "execute_result"
    },
    {
     "data": {
      "image/png": "[encoded data removed]",
      "text/plain": [
       "<Figure size 640x480 with 1 Axes>"
      ]
     },
     "metadata": {},
     "output_type": "display_data"
    }
   ],
   "source": [
    "rng = np.random.default_rng(seed = 102)\n",
    "Xnew = np.arange(-2, 2, 0.03)\n",
    "ynew = Xnew**3 + rng.normal(0, 1.5, Xnew.shape[0])\n",
    "X_test = np.column_stack((np.ones(Xnew.shape[0]), Xnew.reshape(-1, 1))).T\n",
    "y_test = ynew.reshape(-1, 1)\n",
    "plt.scatter(Xnew,ynew)"
   ]
  },
  {
   "cell_type": "markdown",
   "metadata": {},
   "source": [
    "This is the test dataset, just to check the correctness of our output ;-;."
   ]
  },
  {
   "cell_type": "markdown",
   "metadata": {
    "id": "5vlunIBzDI1_"
   },
   "source": [
    "## Question 19\n",
    "\n",
    "Find the loss for the test data points. Consider the loss to be defined as\n",
    "\n",
    "$$ \\sqrt{\\dfrac{1}{n}\\sum\\limits_{i=1}^{n} (y_i- \\hat{y}_i)^2}\n",
    "$$\n",
    "\n",
    "Where $\\hat{y}_i$ is the prediction for $i^{th}$ data point. "
   ]
  },
  {
   "cell_type": "markdown",
   "metadata": {},
   "source": [
    "when using it with test set, only the kernel matrix changes."
   ]
  },
  {
   "cell_type": "code",
   "execution_count": 122,
   "metadata": {
    "executionInfo": {
     "elapsed": 350,
     "status": "ok",
     "timestamp": 1665477156916,
     "user": {
      "displayName": "Nitin Kumar Jha",
      "userId": "04937771533360242308"
     },
     "user_tz": -330
    },
    "id": "_RxSPslY7joK"
   },
   "outputs": [],
   "source": [
    "def K_matrix(X, X_test, p):\n",
    "  return (X.T@X_test+1)**p"
   ]
  },
  {
   "cell_type": "code",
   "execution_count": 123,
   "metadata": {
    "executionInfo": {
     "elapsed": 441,
     "status": "ok",
     "timestamp": 1665477170604,
     "user": {
      "displayName": "Nitin Kumar Jha",
      "userId": "04937771533360242308"
     },
     "user_tz": -330
    },
    "id": "kTwV5QO6VV4q"
   },
   "outputs": [],
   "source": [
    "Kmatrix = K_matrix(X_train, X_test, 3)"
   ]
  },
  {
   "cell_type": "code",
   "execution_count": 124,
   "metadata": {
    "executionInfo": {
     "elapsed": 6,
     "status": "ok",
     "timestamp": 1665477172777,
     "user": {
      "displayName": "Nitin Kumar Jha",
      "userId": "04937771533360242308"
     },
     "user_tz": -330
    },
    "id": "xfLVZTZSV6KD"
   },
   "outputs": [],
   "source": [
    "prediction = Kmatrix.T@coeff"
   ]
  },
  {
   "cell_type": "code",
   "execution_count": 125,
   "metadata": {
    "colab": {
     "base_uri": "https://localhost:8080/"
    },
    "executionInfo": {
     "elapsed": 376,
     "status": "ok",
     "timestamp": 1665477211720,
     "user": {
      "displayName": "Nitin Kumar Jha",
      "userId": "04937771533360242308"
     },
     "user_tz": -330
    },
    "id": "-7cC9AN7LQho",
    "outputId": "0fb72bae-5f45-41ec-e53a-8ece5aee8551"
   },
   "outputs": [
    {
     "name": "stderr",
     "output_type": "stream",
     "text": [
      "C:\\Users\\Om\\AppData\\Local\\Temp\\ipykernel_6888\\3883326603.py:7: DeprecationWarning: Conversion of an array with ndim > 0 to a scalar is deprecated, and will error in future. Ensure you extract a single element from your array before performing this operation. (Deprecated NumPy 1.25.)\n",
      "  return math.sqrt(ans)\n"
     ]
    },
    {
     "data": {
      "text/plain": [
       "1.565099676317016"
      ]
     },
     "execution_count": 125,
     "metadata": {},
     "output_type": "execute_result"
    }
   ],
   "source": [
    "loss(y_test, prediction)"
   ]
  }
 ],
 "metadata": {
  "colab": {
   "authorship_tag": "ABX9TyOELyoKChipkZb+9niXLlKq",
   "collapsed_sections": [
    "uBUor5KWp3_Q",
    "FSDbBz7ucm_a",
    "5eh8cI4PeVEb"
   ],
   "provenance": []
  },
  "kernelspec": {
   "display_name": "Python 3",
   "name": "python3"
  },
  "language_info": {
   "codemirror_mode": {
    "name": "ipython",
    "version": 3
   },
   "file_extension": ".py",
   "mimetype": "text/x-python",
   "name": "python",
   "nbconvert_exporter": "python",
   "pygments_lexer": "ipython3",
   "version": "3.11.0"
  }
 },
 "nbformat": 4,
 "nbformat_minor": 0
}
