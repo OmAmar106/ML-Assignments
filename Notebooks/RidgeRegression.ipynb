{
 "cells": [
  {
   "cell_type": "code",
   "execution_count": 1,
   "metadata": {
    "id": "3TDibK0Yrxm_"
   },
   "outputs": [],
   "source": [
    "import numpy as np\n",
    "import matplotlib.pyplot as plt\n"
   ]
  },
  {
   "cell_type": "markdown",
   "metadata": {
    "id": "1TBHlt7hAdN1"
   },
   "source": [
    "# Week-6"
   ]
  },
  {
   "cell_type": "markdown",
   "metadata": {
    "id": "XJKrscLo9qwH"
   },
   "source": [
    "## Dataset\n",
    "\n",
    "Run the cell given below to generate the data-matrix $X$ and target vector $y$. $X$ is of shape $(n, d)$, where $n$ denotes the number of samples and $d$ denotes the number of features. $y$ is of shape $(n,)$. You will be using this dataset for the rest of the assignment. \n",
    "\n",
    "**Do not edit this cell.**"
   ]
  },
  {
   "cell_type": "code",
   "execution_count": 2,
   "metadata": {
    "id": "GIygEzr49Xvf"
   },
   "outputs": [],
   "source": [
    "from sklearn.datasets import load_diabetes\n",
    "X, y = load_diabetes(return_X_y = True)\n",
    "\n",
    "# set the random seed value to 0\n",
    "np.random.seed(0)"
   ]
  },
  {
   "cell_type": "markdown",
   "metadata": {
    "id": "VAONMkaU91v7"
   },
   "source": [
    "## Problem 1\n",
    "How many samples are there in the dataset?"
   ]
  },
  {
   "cell_type": "markdown",
   "metadata": {
    "id": "LnXmn5t-V8Us"
   },
   "source": [
    "## Solution"
   ]
  },
  {
   "cell_type": "code",
   "execution_count": 3,
   "metadata": {
    "colab": {
     "base_uri": "https://localhost:8080/"
    },
    "executionInfo": {
     "elapsed": 10,
     "status": "ok",
     "timestamp": 1667894471648,
     "user": {
      "displayName": "Anamika Chhabra",
      "userId": "17255738975158015368"
     },
     "user_tz": -330
    },
    "id": "b8mWzvYI96Vq",
    "outputId": "5f97dd7d-b1ee-4d41-a2a7-b11107145191"
   },
   "outputs": [
    {
     "data": {
      "text/plain": [
       "442"
      ]
     },
     "execution_count": 3,
     "metadata": {},
     "output_type": "execute_result"
    }
   ],
   "source": [
    "X.shape[0]"
   ]
  },
  {
   "cell_type": "markdown",
   "metadata": {
    "id": "ozjMS6e_91y3"
   },
   "source": [
    "## Problem 2\n",
    "\n",
    "How many features are there in the dataset?"
   ]
  },
  {
   "cell_type": "markdown",
   "metadata": {
    "id": "xvFvIHN9V_s7"
   },
   "source": [
    "## Solution"
   ]
  },
  {
   "cell_type": "code",
   "execution_count": 4,
   "metadata": {
    "colab": {
     "base_uri": "https://localhost:8080/"
    },
    "executionInfo": {
     "elapsed": 688,
     "status": "ok",
     "timestamp": 1667894472330,
     "user": {
      "displayName": "Anamika Chhabra",
      "userId": "17255738975158015368"
     },
     "user_tz": -330
    },
    "id": "ii_yZn4N-Di8",
    "outputId": "75b647b7-84b4-4b38-c0a3-2f11ceb7d3ee"
   },
   "outputs": [
    {
     "data": {
      "text/plain": [
       "10"
      ]
     },
     "execution_count": 4,
     "metadata": {},
     "output_type": "execute_result"
    }
   ],
   "source": [
    "X.shape[1]"
   ]
  },
  {
   "cell_type": "markdown",
   "metadata": {
    "id": "HxIZaojUVGIL"
   },
   "source": [
    "## Problem 3\n",
    "Write a function `shuffle_data(X, y)` that returns the shuffled $X$ and $y$. \n",
    "\n",
    "Note that it should shuffle the data pairs $(x_i, y_i)$. "
   ]
  },
  {
   "cell_type": "code",
   "execution_count": 5,
   "metadata": {
    "colab": {
     "base_uri": "https://localhost:8080/"
    },
    "executionInfo": {
     "elapsed": 30,
     "status": "ok",
     "timestamp": 1667894472330,
     "user": {
      "displayName": "Anamika Chhabra",
      "userId": "17255738975158015368"
     },
     "user_tz": -330
    },
    "id": "uLGsJyGkdgug",
    "outputId": "e2edfa9b-19d2-492c-89d3-d6a5dd0b6fa4"
   },
   "outputs": [],
   "source": [
    "def shuffle_data(X, y):\n",
    "    indices = np.arange(X.shape[0])\n",
    "    np.random.shuffle(indices)\n",
    "    return X[indices], y[indices] \n",
    "\n",
    "\n",
    "X, y = shuffle_data(X, y)\n",
    "\n",
    "# just shuffling the data so that the data set is randomized \n"
   ]
  },
  {
   "cell_type": "markdown",
   "metadata": {
    "id": "pfsUsn_8WSXZ"
   },
   "source": [
    "## Problem 4\n",
    "\n",
    "Write a function `train_test_split(X, y, test_size)` that divides the data (X, y) into $X_{train}$, $X_{test}$, $y_{train}$, $y_{test}$ respectively as per test_size which should be a value between 0 and 1.\n",
    "\n",
    "That is, if test_size = $t$, then `int(t*n)` data points should go to test and the remaining data points should go to train.\n",
    "\n",
    "$X_{train}$, $X_{test}$, $y_{train}$, $y_{test}$ should be returned by the function.\n",
    "\n",
    "\n",
    "\n",
    "\n"
   ]
  },
  {
   "cell_type": "code",
   "execution_count": 6,
   "metadata": {
    "colab": {
     "base_uri": "https://localhost:8080/"
    },
    "executionInfo": {
     "elapsed": 28,
     "status": "ok",
     "timestamp": 1667894472331,
     "user": {
      "displayName": "Anamika Chhabra",
      "userId": "17255738975158015368"
     },
     "user_tz": -330
    },
    "id": "Y5VZVbT8dg2b",
    "outputId": "d6dba943-8853-45f8-b719-cfcbc6eac910"
   },
   "outputs": [],
   "source": [
    "def train_test_split(X, y, test_size):\n",
    "    # X, y = shuffle_data(X, y)\n",
    "    num_train_data_points = len(y) - int(len(y) *test_size)\n",
    "    X_train, X_test = X[:num_train_data_points], X[num_train_data_points:]\n",
    "    y_train, y_test = y[:num_train_data_points], y[num_train_data_points:]\n",
    "    return X_train, X_test, y_train, y_test\n",
    "\n",
    "X_train, X_test, y_train, y_test = train_test_split(X, y, 0.25)\n"
   ]
  },
  {
   "cell_type": "markdown",
   "metadata": {
    "id": "D67g0r9ad8Ea"
   },
   "source": [
    "## Problem 5\n",
    "\n",
    "What are the shapes of $X_{train}$, $X_{test}$, $y_{train}$, $y_{test}$ respectively?\n",
    "\n"
   ]
  },
  {
   "cell_type": "code",
   "execution_count": 7,
   "metadata": {
    "colab": {
     "base_uri": "https://localhost:8080/"
    },
    "executionInfo": {
     "elapsed": 26,
     "status": "ok",
     "timestamp": 1667894472331,
     "user": {
      "displayName": "Anamika Chhabra",
      "userId": "17255738975158015368"
     },
     "user_tz": -330
    },
    "id": "kTPAakKblF7q",
    "outputId": "7c25beaf-6182-453f-d272-61e7ec72fa1a"
   },
   "outputs": [
    {
     "data": {
      "text/plain": [
       "(332, 10)"
      ]
     },
     "execution_count": 7,
     "metadata": {},
     "output_type": "execute_result"
    }
   ],
   "source": [
    "X_train.shape"
   ]
  },
  {
   "cell_type": "code",
   "execution_count": 8,
   "metadata": {
    "colab": {
     "base_uri": "https://localhost:8080/"
    },
    "executionInfo": {
     "elapsed": 25,
     "status": "ok",
     "timestamp": 1667894472331,
     "user": {
      "displayName": "Anamika Chhabra",
      "userId": "17255738975158015368"
     },
     "user_tz": -330
    },
    "id": "uzcPWrXqlF-D",
    "outputId": "fc660acc-b8ca-479f-a9ad-04b1700bb898"
   },
   "outputs": [
    {
     "data": {
      "text/plain": [
       "(110, 10)"
      ]
     },
     "execution_count": 8,
     "metadata": {},
     "output_type": "execute_result"
    }
   ],
   "source": [
    "X_test.shape"
   ]
  },
  {
   "cell_type": "code",
   "execution_count": 9,
   "metadata": {
    "colab": {
     "base_uri": "https://localhost:8080/"
    },
    "executionInfo": {
     "elapsed": 25,
     "status": "ok",
     "timestamp": 1667894472332,
     "user": {
      "displayName": "Anamika Chhabra",
      "userId": "17255738975158015368"
     },
     "user_tz": -330
    },
    "id": "AqYsAIr2lGA0",
    "outputId": "39914b91-3842-4cff-cbc8-2cc8629727e1"
   },
   "outputs": [
    {
     "data": {
      "text/plain": [
       "(332,)"
      ]
     },
     "execution_count": 9,
     "metadata": {},
     "output_type": "execute_result"
    }
   ],
   "source": [
    "y_train.shape"
   ]
  },
  {
   "cell_type": "code",
   "execution_count": 10,
   "metadata": {
    "colab": {
     "base_uri": "https://localhost:8080/"
    },
    "executionInfo": {
     "elapsed": 23,
     "status": "ok",
     "timestamp": 1667894472332,
     "user": {
      "displayName": "Anamika Chhabra",
      "userId": "17255738975158015368"
     },
     "user_tz": -330
    },
    "id": "e5AebZs2dg5F",
    "outputId": "a7d274ef-59d1-43af-efbd-5eb7a3ac8cfd"
   },
   "outputs": [
    {
     "data": {
      "text/plain": [
       "(110,)"
      ]
     },
     "execution_count": 10,
     "metadata": {},
     "output_type": "execute_result"
    }
   ],
   "source": [
    "y_test.shape"
   ]
  },
  {
   "cell_type": "markdown",
   "metadata": {
    "id": "nYgSo6DLe0n-"
   },
   "source": [
    "## Problem 6\n",
    "Add a dummy feature, i.e., a column containing all 1's (as the first column) in $X_{train}$ and $X_{test}$.\n",
    "\n",
    "Take the transpose of both $X_{train}$ and $X_{test}$.\n",
    "\n",
    "What are the shapes of $X_{train}$ and $X_{test}$?\n"
   ]
  },
  {
   "cell_type": "code",
   "execution_count": 11,
   "metadata": {
    "id": "Lgv2V9qnnNv3"
   },
   "outputs": [],
   "source": [
    "X_train = np.column_stack((np.ones(X_train.shape[0]), X_train)).T\n",
    "X_test = np.column_stack((np.ones(X_test.shape[0]), X_test)).T"
   ]
  },
  {
   "cell_type": "code",
   "execution_count": 12,
   "metadata": {
    "colab": {
     "base_uri": "https://localhost:8080/"
    },
    "executionInfo": {
     "elapsed": 23,
     "status": "ok",
     "timestamp": 1667894472333,
     "user": {
      "displayName": "Anamika Chhabra",
      "userId": "17255738975158015368"
     },
     "user_tz": -330
    },
    "id": "8c4fjs6gnaZf",
    "outputId": "87d18bed-aac8-46cb-fb54-63e6b80913a8"
   },
   "outputs": [
    {
     "data": {
      "text/plain": [
       "(11, 332)"
      ]
     },
     "execution_count": 12,
     "metadata": {},
     "output_type": "execute_result"
    }
   ],
   "source": [
    "X_train.shape"
   ]
  },
  {
   "cell_type": "code",
   "execution_count": 13,
   "metadata": {
    "colab": {
     "base_uri": "https://localhost:8080/"
    },
    "executionInfo": {
     "elapsed": 21,
     "status": "ok",
     "timestamp": 1667894472333,
     "user": {
      "displayName": "Anamika Chhabra",
      "userId": "17255738975158015368"
     },
     "user_tz": -330
    },
    "id": "27E4joILncAn",
    "outputId": "2bd1d7e2-2e78-4954-dc31-4deed5e43bf8"
   },
   "outputs": [
    {
     "data": {
      "text/plain": [
       "(11, 110)"
      ]
     },
     "execution_count": 13,
     "metadata": {},
     "output_type": "execute_result"
    }
   ],
   "source": [
    "X_test.shape"
   ]
  },
  {
   "cell_type": "markdown",
   "metadata": {
    "id": "mYY6hNkYf7gr"
   },
   "source": [
    "## Problem 7\n",
    "\n",
    "Write a function `compute_weights(X, y)` that uses the closed form formula of linear regression and returns a weight vector.\n",
    "\n",
    "Call this function by passing $X_{train}$ and $y_{train}$. As the dummy feature was added as the first column, the first value in the weight vector will be the intercept."
   ]
  },
  {
   "cell_type": "code",
   "execution_count": 14,
   "metadata": {
    "id": "XWxPR8N5nc17"
   },
   "outputs": [],
   "source": [
    "def weights(X, y): \n",
    "  return (np.linalg.pinv(X@(X.T)))@X@y\n",
    "\n",
    "wts = weights(X_train, y_train)"
   ]
  },
  {
   "cell_type": "code",
   "execution_count": null,
   "metadata": {
    "colab": {
     "base_uri": "https://localhost:8080/"
    },
    "executionInfo": {
     "elapsed": 21,
     "status": "ok",
     "timestamp": 1667894472334,
     "user": {
      "displayName": "Anamika Chhabra",
      "userId": "17255738975158015368"
     },
     "user_tz": -330
    },
    "id": "0MqCHq5Mnn-k",
    "outputId": "e8c4121c-998d-4896-b8ab-cf663d7fdd99"
   },
   "outputs": [
    {
     "data": {
      "text/plain": [
       "array([ 150.80818855,  -37.55141005, -236.69770894,  495.94156781,\n",
       "        332.66085205, -985.56901674,  608.20547786,  225.71676823,\n",
       "        214.06133319,  769.84183095,  125.14414735])"
      ]
     },
     "execution_count": 16,
     "metadata": {},
     "output_type": "execute_result"
    }
   ],
   "source": [
    "wts.round(1) #rounds upto the first decimal \n",
    "\n",
    "# so now the wts is the wi, found using linear regression."
   ]
  },
  {
   "cell_type": "markdown",
   "metadata": {
    "id": "XUKviVRZoh2j"
   },
   "source": [
    "## Problem 8\n",
    "\n",
    "Write a function `MSE(X, y, w)` that returns the mean squared error for the given `X`, `y` as per `w` values.\n",
    "\n",
    "Using this function, compute the train error and test error.\n",
    "\n",
    "Note: Here `y` is the true `y` for `X`.\n",
    "\n",
    "Compute both train and test error. "
   ]
  },
  {
   "cell_type": "code",
   "execution_count": 17,
   "metadata": {
    "id": "PYguHgM_2cSv"
   },
   "outputs": [],
   "source": [
    "def MSE(X, y, w):\n",
    "  return np.sum(((X.T)@w-y)**2)/X.shape[1]"
   ]
  },
  {
   "cell_type": "code",
   "execution_count": 18,
   "metadata": {
    "colab": {
     "base_uri": "https://localhost:8080/"
    },
    "executionInfo": {
     "elapsed": 19,
     "status": "ok",
     "timestamp": 1667894472334,
     "user": {
      "displayName": "Anamika Chhabra",
      "userId": "17255738975158015368"
     },
     "user_tz": -330
    },
    "id": "Vk1A4XUrqZWf",
    "outputId": "220a4c20-62a3-407f-c5d2-99c90d30e719"
   },
   "outputs": [
    {
     "data": {
      "text/plain": [
       "2921.8874514067493"
      ]
     },
     "execution_count": 18,
     "metadata": {},
     "output_type": "execute_result"
    }
   ],
   "source": [
    "# train error_train, w, \n",
    "train_error = MSE(X_train, y_train, wts)\n",
    "train_error"
   ]
  },
  {
   "cell_type": "code",
   "execution_count": 19,
   "metadata": {
    "colab": {
     "base_uri": "https://localhost:8080/"
    },
    "executionInfo": {
     "elapsed": 18,
     "status": "ok",
     "timestamp": 1667894472334,
     "user": {
      "displayName": "Anamika Chhabra",
      "userId": "17255738975158015368"
     },
     "user_tz": -330
    },
    "id": "BXX45qqcqZX4",
    "outputId": "a046ce69-6438-4e40-8c8b-4dd46becad26"
   },
   "outputs": [
    {
     "data": {
      "text/plain": [
       "2745.430111174356"
      ]
     },
     "execution_count": 19,
     "metadata": {},
     "output_type": "execute_result"
    }
   ],
   "source": [
    "# test error]\n",
    "test_error = MSE(X_test, y_test, wts)\n",
    "test_error"
   ]
  },
  {
   "cell_type": "markdown",
   "metadata": {
    "id": "mZZVbejulHyv"
   },
   "source": [
    "## Problem 9\n",
    "\n",
    "Write a function `compute_weights_ridge(X, y)` that uses the closed form formula of Ridge regression and returns a weight vector.\n",
    "\n",
    "Call this function by passing  `X_train`, `y_train` and 0.3 as the value of regularization strength. \n",
    "\n",
    "\n",
    "Find the sum of values in the weight vector obtained. How much reduction in total sum of weights is achieved with respect to the the weight vector obtained from 'plain' linear regression (without regularization) computed earlier."
   ]
  },
  {
   "attachments": {
    "image.png": {
     "image/png": "[encoded data removed]"
    }
   },
   "cell_type": "markdown",
   "metadata": {},
   "source": [
    "![image.png](attachment:image.png)\n",
    "\n",
    "In this , X and X transpose are reversed because it assumes that the columns are the data sets , whereas in our case , the rows are the datasets."
   ]
  },
  {
   "cell_type": "code",
   "execution_count": 20,
   "metadata": {
    "id": "LCyCWK9dqZm1"
   },
   "outputs": [],
   "source": [
    "\n",
    "def weights_ridge(X, y, l): \n",
    "  return (np.linalg.pinv(X@(X.T) + l*np.eye((X.shape[0]))))@X@y"
   ]
  },
  {
   "cell_type": "code",
   "execution_count": 21,
   "metadata": {
    "colab": {
     "base_uri": "https://localhost:8080/"
    },
    "executionInfo": {
     "elapsed": 18,
     "status": "ok",
     "timestamp": 1667894472335,
     "user": {
      "displayName": "Anamika Chhabra",
      "userId": "17255738975158015368"
     },
     "user_tz": -330
    },
    "id": "nkGItoOBuMWr",
    "outputId": "bdaced8a-d778-4a1d-aff0-ed5990cfeb63"
   },
   "outputs": [
    {
     "data": {
      "text/plain": [
       "array([ 151.1,    1.2, -142.7,  386.1,  269.1,  -30.2,  -71.1, -151.2,\n",
       "        105.6,  329.2,  135.5])"
      ]
     },
     "execution_count": 21,
     "metadata": {},
     "output_type": "execute_result"
    }
   ],
   "source": [
    "wts_r = weights_ridge(X_train, y_train, 0.3)\n",
    "wts_r.round(1)"
   ]
  },
  {
   "cell_type": "code",
   "execution_count": null,
   "metadata": {
    "colab": {
     "base_uri": "https://localhost:8080/"
    },
    "executionInfo": {
     "elapsed": 17,
     "status": "ok",
     "timestamp": 1667894472335,
     "user": {
      "displayName": "Anamika Chhabra",
      "userId": "17255738975158015368"
     },
     "user_tz": -330
    },
    "id": "RkbSy_-JuxEB",
    "outputId": "7d63da6a-4c7d-419d-c794-224a05a892d4"
   },
   "outputs": [
    {
     "name": "stdout",
     "output_type": "stream",
     "text": [
      "[ 150.8  -37.6 -236.7  495.9  332.7 -985.6  608.2  225.7  214.1  769.8\n",
      "  125.1]\n",
      "[ 151.1    1.2 -142.7  386.1  269.1  -30.2  -71.1 -151.2  105.6  329.2\n",
      "  135.5]\n"
     ]
    }
   ],
   "source": [
    "print(wts.round(1))\n",
    "print(wts_r.round(1))\n",
    "\n",
    "# they are a bit similar "
   ]
  },
  {
   "cell_type": "markdown",
   "metadata": {
    "id": "LC9Au6sPt1oT"
   },
   "source": [
    "## Problem 10\n",
    "\n",
    "Compute the train error and test error. What is their absolute difference?"
   ]
  },
  {
   "cell_type": "code",
   "execution_count": 23,
   "metadata": {
    "colab": {
     "base_uri": "https://localhost:8080/"
    },
    "executionInfo": {
     "elapsed": 15,
     "status": "ok",
     "timestamp": 1667894472336,
     "user": {
      "displayName": "Anamika Chhabra",
      "userId": "17255738975158015368"
     },
     "user_tz": -330
    },
    "id": "iOUjJJpZ3BaZ",
    "outputId": "10dfe20c-a34a-4d81-9452-262cee936384"
   },
   "outputs": [
    {
     "data": {
      "text/plain": [
       "3058.801638655141"
      ]
     },
     "execution_count": 23,
     "metadata": {},
     "output_type": "execute_result"
    }
   ],
   "source": [
    "train_error = MSE(X_train, y_train, wts_r)\n",
    "train_error"
   ]
  },
  {
   "cell_type": "code",
   "execution_count": 24,
   "metadata": {
    "colab": {
     "base_uri": "https://localhost:8080/"
    },
    "executionInfo": {
     "elapsed": 13,
     "status": "ok",
     "timestamp": 1667894472336,
     "user": {
      "displayName": "Anamika Chhabra",
      "userId": "17255738975158015368"
     },
     "user_tz": -330
    },
    "id": "VJyxKWTA3BdA",
    "outputId": "7b9a83bf-8507-4c37-cd00-591a12f508d7"
   },
   "outputs": [
    {
     "data": {
      "text/plain": [
       "2959.3318999461458"
      ]
     },
     "execution_count": 24,
     "metadata": {},
     "output_type": "execute_result"
    }
   ],
   "source": [
    "test_error = MSE(X_test, y_test, wts_r)\n",
    "test_error"
   ]
  },
  {
   "cell_type": "markdown",
   "metadata": {
    "id": "Wn6-FG5puh8O"
   },
   "source": [
    "## Problem 11\n",
    "\n",
    "Use 10 different values between 0 and 5 as the regularization strength and keep a record of the weight vectors obtained for each. Further, calculate the sum of weights for each weight vector.\n",
    "\n",
    "Plot these sums of weights (on y-axis) with respect to the regularization strength (on x-axis) and observe the reduction in (sum of) weights."
   ]
  },
  {
   "cell_type": "code",
   "execution_count": 25,
   "metadata": {
    "id": "zlzueWYWwtSi"
   },
   "outputs": [],
   "source": [
    "wts = []\n",
    "wt_sums = []\n",
    "for l in np.linspace(0, 5, 11):\n",
    "  wts_r = weights_ridge(X_train, y_train, l)\n",
    "  wts.append(wts_r)\n",
    "  wt_sums.append(wts_r.sum())"
   ]
  },
  {
   "cell_type": "code",
   "execution_count": 26,
   "metadata": {
    "colab": {
     "base_uri": "https://localhost:8080/"
    },
    "executionInfo": {
     "elapsed": 972,
     "status": "ok",
     "timestamp": 1667894473297,
     "user": {
      "displayName": "Anamika Chhabra",
      "userId": "17255738975158015368"
     },
     "user_tz": -330
    },
    "id": "UmGR2CX01wy4",
    "outputId": "c196e072-136e-4978-acab-e705b6872504"
   },
   "outputs": [
    {
     "data": {
      "text/plain": [
       "[array([ 150.80818855,  -37.55141005, -236.69770894,  495.94156781,\n",
       "         332.66085205, -985.56901674,  608.20547786,  225.71676823,\n",
       "         214.06133319,  769.84183095,  125.14414735]),\n",
       " array([ 151.04937984,   11.51247346, -108.87848566,  338.61794373,\n",
       "         239.26407985,  -12.60786249,  -52.30619682, -140.88593055,\n",
       "         101.65550788,  285.20387755,  131.92452925]),\n",
       " array([ 150.93643427,   22.80402673,  -62.82220777,  261.89642392,\n",
       "         189.2744252 ,    7.19592756,  -22.88601026, -118.82842246,\n",
       "          93.22353209,  220.04758523,  117.8181848 ]),\n",
       " array([ 150.76609373,   26.06000832,  -40.48018542,  215.3430385 ,\n",
       "         157.71270544,   15.28384284,   -8.03994408, -102.82082708,\n",
       "          85.43743347,  181.98208678,  104.69636706]),\n",
       " array([ 1.50570002e+02,  2.65719811e+01, -2.78856171e+01,  1.83652137e+02,\n",
       "         1.35664017e+02,  1.89416472e+01,  9.30922814e-02, -9.07534285e+01,\n",
       "         7.84774373e+01,  1.56186869e+02,  9.38440362e+01]),\n",
       " array([150.36132351,  26.02700215, -20.08807175, 160.4957377 ,\n",
       "        119.2654898 ,  20.54195444,   4.81007335, -81.30074193,\n",
       "         72.37381969, 137.26396652,  84.92871739]),\n",
       " array([150.14612454,  25.06794784, -14.93805882, 142.74498542,\n",
       "        106.53404691,  21.09483209,   7.63847216, -73.67626872,\n",
       "         67.04636759, 122.66759527,  77.52806391]),\n",
       " array([149.92746687,  23.96665706, -11.37121161, 128.65841789,\n",
       "         96.33388171,  21.08790074,   9.35754824, -67.38540108,\n",
       "         62.38845981, 111.00771164,  71.30377762]),\n",
       " array([149.70700761,  22.84461343,  -8.80914185, 117.1821313 ,\n",
       "         87.96225778,  20.77568205,  10.39516699, -62.10017765,\n",
       "         58.29807571, 101.44869225,  66.00257393]),\n",
       " array([149.48569355,  21.75676784,  -6.9148753 , 107.63734677,\n",
       "         80.9586205 ,  20.2982784 ,  10.99992171, -57.59366624,\n",
       "         54.6866521 ,  93.45267677,  61.43597712]),\n",
       " array([149.26408884,  20.72685986,  -5.48112431,  99.56534385,\n",
       "         75.00734403,  19.73570036,  11.32281579, -53.70335621,\n",
       "         51.4800678 ,  86.65529112,  57.46236456])]"
      ]
     },
     "execution_count": 26,
     "metadata": {},
     "output_type": "execute_result"
    }
   ],
   "source": [
    "wts"
   ]
  },
  {
   "cell_type": "code",
   "execution_count": 27,
   "metadata": {
    "colab": {
     "base_uri": "https://localhost:8080/"
    },
    "executionInfo": {
     "elapsed": 25,
     "status": "ok",
     "timestamp": 1667894473298,
     "user": {
      "displayName": "Anamika Chhabra",
      "userId": "17255738975158015368"
     },
     "user_tz": -330
    },
    "id": "4mAX5Xnf2KHt",
    "outputId": "596c73de-f37e-4ee2-c546-f7578faca1da"
   },
   "outputs": [
    {
     "data": {
      "text/plain": [
       "[1662.5620302800573,\n",
       " 944.5493160349387,\n",
       " 858.6598993305715,\n",
       " 785.9406195524759,\n",
       " 725.3621728644513,\n",
       " 674.6792708654051,\n",
       " 631.8541081829062,\n",
       " 595.2752088998727,\n",
       " 563.7068815644691,\n",
       " 536.2033932263246,\n",
       " 512.0353956941119]"
      ]
     },
     "execution_count": 27,
     "metadata": {},
     "output_type": "execute_result"
    }
   ],
   "source": [
    "wt_sums"
   ]
  },
  {
   "cell_type": "code",
   "execution_count": 28,
   "metadata": {
    "colab": {
     "base_uri": "https://localhost:8080/",
     "height": 456
    },
    "executionInfo": {
     "elapsed": 24,
     "status": "ok",
     "timestamp": 1667894473299,
     "user": {
      "displayName": "Anamika Chhabra",
      "userId": "17255738975158015368"
     },
     "user_tz": -330
    },
    "id": "IvlnU90Zx5yH",
    "outputId": "a6269163-baaf-4009-ecd4-37c5d6f48a77"
   },
   "outputs": [
    {
     "data": {
      "text/plain": [
       "[<matplotlib.lines.Line2D at 0x1ddfd40ab50>,\n",
       " <matplotlib.lines.Line2D at 0x1ddfd43f4d0>,\n",
       " <matplotlib.lines.Line2D at 0x1ddfd44b090>,\n",
       " <matplotlib.lines.Line2D at 0x1ddfd44b350>,\n",
       " <matplotlib.lines.Line2D at 0x1ddfd44b7d0>,\n",
       " <matplotlib.lines.Line2D at 0x1ddfd44bcd0>,\n",
       " <matplotlib.lines.Line2D at 0x1ddfd44bb50>,\n",
       " <matplotlib.lines.Line2D at 0x1ddfd458550>,\n",
       " <matplotlib.lines.Line2D at 0x1ddfd4589d0>,\n",
       " <matplotlib.lines.Line2D at 0x1ddfd448990>,\n",
       " <matplotlib.lines.Line2D at 0x1ddfd459290>]"
      ]
     },
     "execution_count": 28,
     "metadata": {},
     "output_type": "execute_result"
    },
    {
     "data": {
      "image/png": "[encoded data removed]",
      "text/plain": [
       "<Figure size 640x480 with 1 Axes>"
      ]
     },
     "metadata": {},
     "output_type": "display_data"
    }
   ],
   "source": [
    "import matplotlib.pyplot as plt\n",
    "plt.plot(np.linspace(0, 5, 11), wts, 'o-')"
   ]
  },
  {
   "cell_type": "code",
   "execution_count": null,
   "metadata": {
    "colab": {
     "base_uri": "https://localhost:8080/",
     "height": 282
    },
    "executionInfo": {
     "elapsed": 21,
     "status": "ok",
     "timestamp": 1667894473299,
     "user": {
      "displayName": "Anamika Chhabra",
      "userId": "17255738975158015368"
     },
     "user_tz": -330
    },
    "id": "Jk4QTXOb2Nc-",
    "outputId": "d09529df-e097-4e7c-9b8f-c2174b9f7766"
   },
   "outputs": [
    {
     "data": {
      "text/plain": [
       "[<matplotlib.lines.Line2D at 0x1ddfd4bb310>]"
      ]
     },
     "execution_count": 29,
     "metadata": {},
     "output_type": "execute_result"
    },
    {
     "data": {
      "image/png": "[encoded data removed]",
      "text/plain": [
       "<Figure size 640x480 with 1 Axes>"
      ]
     },
     "metadata": {},
     "output_type": "display_data"
    }
   ],
   "source": [
    "import matplotlib.pyplot as plt\n",
    "plt.plot(np.linspace(0, 5, 11), wt_sums, '*-')\n",
    "\n",
    "# as the l increases , the weight sum decreases."
   ]
  }
 ],
 "metadata": {
  "colab": {
   "authorship_tag": "ABX9TyNy4O3j7rgsbMf3RuqAVdxB",
   "collapsed_sections": [],
   "provenance": []
  },
  "kernelspec": {
   "display_name": "Python 3",
   "name": "python3"
  },
  "language_info": {
   "codemirror_mode": {
    "name": "ipython",
    "version": 3
   },
   "file_extension": ".py",
   "mimetype": "text/x-python",
   "name": "python",
   "nbconvert_exporter": "python",
   "pygments_lexer": "ipython3",
   "version": "3.11.0"
  }
 },
 "nbformat": 4,
 "nbformat_minor": 0
}
