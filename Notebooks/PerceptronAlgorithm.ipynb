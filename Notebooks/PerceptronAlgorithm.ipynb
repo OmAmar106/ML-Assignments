{
 "cells": [
  {
   "cell_type": "code",
   "execution_count": 1,
   "metadata": {
    "id": "3TDibK0Yrxm_"
   },
   "outputs": [],
   "source": [
    "import numpy as np\n",
    "import matplotlib.pyplot as plt"
   ]
  },
  {
   "cell_type": "markdown",
   "metadata": {
    "id": "1TBHlt7hAdN1"
   },
   "source": [
    "# Week-9\n",
    "\n",
    "# Perceptron Algorithm\n"
   ]
  },
  {
   "cell_type": "code",
   "execution_count": 2,
   "metadata": {
    "id": "d_H2VRQNsLly"
   },
   "outputs": [],
   "source": [
    "from sklearn.datasets import make_classification\n",
    "X, y = make_classification(n_samples=50, n_features=2, n_informative = 2, n_redundant = 0, n_clusters_per_class = 1, flip_y = 0, class_sep = 3, random_state=20)"
   ]
  },
  {
   "cell_type": "markdown",
   "metadata": {},
   "source": [
    "In this method , we basically need to create a line(decision boundary) such that the data points are divided into two sides, it is in a way a classification model. After which we update the points based on wrong classification, it changes with each input point."
   ]
  },
  {
   "cell_type": "markdown",
   "metadata": {
    "id": "VAONMkaU91v7"
   },
   "source": [
    "## Problem 1\n",
    "How many samples are there in the dataset?"
   ]
  },
  {
   "cell_type": "code",
   "execution_count": 3,
   "metadata": {
    "colab": {
     "base_uri": "https://localhost:8080/"
    },
    "executionInfo": {
     "elapsed": 61,
     "status": "ok",
     "timestamp": 1667561491802,
     "user": {
      "displayName": "Anamika Chhabra",
      "userId": "17255738975158015368"
     },
     "user_tz": -330
    },
    "id": "mC0tYdca13-s",
    "outputId": "c57eb6f0-5ad2-4a48-c947-7d46d9ea931a"
   },
   "outputs": [
    {
     "data": {
      "text/plain": [
       "(50, 2)"
      ]
     },
     "execution_count": 3,
     "metadata": {},
     "output_type": "execute_result"
    }
   ],
   "source": [
    "X.shape"
   ]
  },
  {
   "cell_type": "code",
   "execution_count": null,
   "metadata": {
    "colab": {
     "base_uri": "https://localhost:8080/"
    },
    "executionInfo": {
     "elapsed": 56,
     "status": "ok",
     "timestamp": 1667561491802,
     "user": {
      "displayName": "Anamika Chhabra",
      "userId": "17255738975158015368"
     },
     "user_tz": -330
    },
    "id": "Ex1GKXO4sfN4",
    "outputId": "66036576-c9dc-4c75-afc2-fa532ca9274e"
   },
   "outputs": [
    {
     "data": {
      "text/plain": [
       "(50,)"
      ]
     },
     "execution_count": 38,
     "metadata": {},
     "output_type": "execute_result"
    }
   ],
   "source": [
    "y.shape"
   ]
  },
  {
   "cell_type": "markdown",
   "metadata": {
    "id": "ozjMS6e_91y3"
   },
   "source": [
    "## Problem 2\n",
    "\n",
    "How many features are there in the dataset?\n"
   ]
  },
  {
   "cell_type": "code",
   "execution_count": 4,
   "metadata": {},
   "outputs": [
    {
     "data": {
      "text/plain": [
       "50"
      ]
     },
     "execution_count": 4,
     "metadata": {},
     "output_type": "execute_result"
    }
   ],
   "source": [
    "X.shape[0]"
   ]
  },
  {
   "cell_type": "markdown",
   "metadata": {
    "id": "BOuGvyBUrGUH"
   },
   "source": [
    "## Problem 3\n",
    "In the target vector $y$, replace all occurrences of 0 with -1. \n",
    "\n",
    "How many unique classes are there in the target vector?"
   ]
  },
  {
   "cell_type": "code",
   "execution_count": 5,
   "metadata": {
    "id": "0LjUY-LOZRzu"
   },
   "outputs": [],
   "source": [
    "y[y == 0] = -1"
   ]
  },
  {
   "cell_type": "code",
   "execution_count": 6,
   "metadata": {
    "colab": {
     "base_uri": "https://localhost:8080/"
    },
    "executionInfo": {
     "elapsed": 49,
     "status": "ok",
     "timestamp": 1667561491804,
     "user": {
      "displayName": "Anamika Chhabra",
      "userId": "17255738975158015368"
     },
     "user_tz": -330
    },
    "id": "aIUX7dqPrHhq",
    "outputId": "2f9724cb-d161-465e-b6e8-a727ce8d18a0"
   },
   "outputs": [
    {
     "data": {
      "text/plain": [
       "array([-1,  1])"
      ]
     },
     "execution_count": 6,
     "metadata": {},
     "output_type": "execute_result"
    }
   ],
   "source": [
    "np.unique(y)"
   ]
  },
  {
   "cell_type": "markdown",
   "metadata": {
    "id": "2mjZDVoIqzkJ"
   },
   "source": [
    "## Problem 4\n",
    "Plot the data keeping first feature on the x-axis and the second feature on the y-axis. Plot the data points belonging to each class in different colors. Does the data seem linearly separable?\n",
    "\n",
    "Yes"
   ]
  },
  {
   "cell_type": "code",
   "execution_count": 10,
   "metadata": {
    "colab": {
     "base_uri": "https://localhost:8080/",
     "height": 282
    },
    "executionInfo": {
     "elapsed": 45,
     "status": "ok",
     "timestamp": 1667561491804,
     "user": {
      "displayName": "Anamika Chhabra",
      "userId": "17255738975158015368"
     },
     "user_tz": -330
    },
    "id": "egxLJ4Bu8QMj",
    "outputId": "acaebe00-3ec1-4409-ac58-eb334dae58bd"
   },
   "outputs": [
    {
     "data": {
      "text/plain": [
       "[<matplotlib.lines.Line2D at 0x20666d8c1d0>]"
      ]
     },
     "execution_count": 10,
     "metadata": {},
     "output_type": "execute_result"
    },
    {
     "data": {
      "image/png": "[encoded data removed]",
      "text/plain": [
       "<Figure size 640x480 with 1 Axes>"
      ]
     },
     "metadata": {},
     "output_type": "display_data"
    }
   ],
   "source": [
    "import matplotlib.pyplot as plt\n",
    "plt.plot(X[:, 0][y == -1], X[:, 1][y == -1], 'ro')\n",
    "plt.plot(X[:, 0][y == 1], X[:, 1][y == 1], 'bo')"
   ]
  },
  {
   "cell_type": "markdown",
   "metadata": {
    "id": "wBvVzKA-u9YM"
   },
   "source": [
    "## Problem 5\n",
    "\n",
    "Initialize w to be a zero vector, with shape equal to the number of features in the data.\n",
    "\n",
    "Iterate over each data point $x$ in $X$ one by one (in the same sequence as present in $X$). For each data point, compute the value of $w^Tx$. If $w^Tx \\ge 0$, predict positive class for $x$, else predict the negative class.\n",
    "\n",
    "If prediction does not match the actual class label, update the weight vector as per the following update rule:\n",
    "$w_{new} = w_{old} + xy$ where $x$ is the data point and $y$ is the actual label of $x$.\n",
    "\n",
    "Run the above for 10 epochs (iterations), but stop if there are no weight updates in an epoch. "
   ]
  },
  {
   "cell_type": "code",
   "execution_count": 11,
   "metadata": {
    "id": "KfrhrsZP-UpE"
   },
   "outputs": [
    {
     "name": "stdout",
     "output_type": "stream",
     "text": [
      "w is  [0. 0.]\n",
      "*************epoch 0: 1 1\n",
      "[0. 0.]\n",
      "1 1\n",
      "[0. 0.]\n",
      "1 1\n",
      "[0. 0.]\n",
      "1 1\n",
      "[0. 0.]\n",
      "1 1\n",
      "[0. 0.]\n",
      "1 1\n",
      "[0. 0.]\n",
      "1 1\n",
      "[0. 0.]\n",
      "-1 1\n",
      "[2.53147281 3.04571493]\n",
      "-1 -1\n",
      "[2.53147281 3.04571493]\n",
      "1 -1\n",
      "[ 6.08372134 -0.97979197]\n",
      "-1 -1\n",
      "[ 6.08372134 -0.97979197]\n",
      "-1 -1\n",
      "[ 6.08372134 -0.97979197]\n",
      "-1 -1\n",
      "[ 6.08372134 -0.97979197]\n",
      "1 1\n",
      "[ 6.08372134 -0.97979197]\n",
      "-1 -1\n",
      "[ 6.08372134 -0.97979197]\n",
      "-1 -1\n",
      "[ 6.08372134 -0.97979197]\n",
      "1 1\n",
      "[ 6.08372134 -0.97979197]\n",
      "1 1\n",
      "[ 6.08372134 -0.97979197]\n",
      "-1 -1\n",
      "[ 6.08372134 -0.97979197]\n",
      "1 1\n",
      "[ 6.08372134 -0.97979197]\n",
      "-1 -1\n",
      "[ 6.08372134 -0.97979197]\n",
      "1 1\n",
      "[ 6.08372134 -0.97979197]\n",
      "-1 -1\n",
      "[ 6.08372134 -0.97979197]\n",
      "-1 -1\n",
      "[ 6.08372134 -0.97979197]\n",
      "1 1\n",
      "[ 6.08372134 -0.97979197]\n",
      "-1 -1\n",
      "[ 6.08372134 -0.97979197]\n",
      "1 1\n",
      "[ 6.08372134 -0.97979197]\n",
      "-1 -1\n",
      "[ 6.08372134 -0.97979197]\n",
      "1 1\n",
      "[ 6.08372134 -0.97979197]\n",
      "1 1\n",
      "[ 6.08372134 -0.97979197]\n",
      "-1 -1\n",
      "[ 6.08372134 -0.97979197]\n",
      "1 1\n",
      "[ 6.08372134 -0.97979197]\n",
      "-1 -1\n",
      "[ 6.08372134 -0.97979197]\n",
      "1 1\n",
      "[ 6.08372134 -0.97979197]\n",
      "-1 -1\n",
      "[ 6.08372134 -0.97979197]\n",
      "1 1\n",
      "[ 6.08372134 -0.97979197]\n",
      "1 1\n",
      "[ 6.08372134 -0.97979197]\n",
      "-1 -1\n",
      "[ 6.08372134 -0.97979197]\n",
      "-1 -1\n",
      "[ 6.08372134 -0.97979197]\n",
      "-1 -1\n",
      "[ 6.08372134 -0.97979197]\n",
      "-1 -1\n",
      "[ 6.08372134 -0.97979197]\n",
      "1 1\n",
      "[ 6.08372134 -0.97979197]\n",
      "1 1\n",
      "[ 6.08372134 -0.97979197]\n",
      "-1 -1\n",
      "[ 6.08372134 -0.97979197]\n",
      "-1 -1\n",
      "[ 6.08372134 -0.97979197]\n",
      "-1 -1\n",
      "[ 6.08372134 -0.97979197]\n",
      "-1 -1\n",
      "[ 6.08372134 -0.97979197]\n",
      "1 1\n",
      "[ 6.08372134 -0.97979197]\n",
      "1 1\n",
      "[ 6.08372134 -0.97979197]\n",
      "-1 -1\n",
      "[ 6.08372134 -0.97979197]\n",
      "2\n",
      "*************epoch 1: 1 1\n",
      "[ 6.08372134 -0.97979197]\n",
      "1 1\n",
      "[ 6.08372134 -0.97979197]\n",
      "1 1\n",
      "[ 6.08372134 -0.97979197]\n",
      "1 1\n",
      "[ 6.08372134 -0.97979197]\n",
      "1 1\n",
      "[ 6.08372134 -0.97979197]\n",
      "1 1\n",
      "[ 6.08372134 -0.97979197]\n",
      "1 1\n",
      "[ 6.08372134 -0.97979197]\n",
      "-1 -1\n",
      "[ 6.08372134 -0.97979197]\n",
      "-1 -1\n",
      "[ 6.08372134 -0.97979197]\n",
      "1 1\n",
      "[ 6.08372134 -0.97979197]\n",
      "-1 -1\n",
      "[ 6.08372134 -0.97979197]\n",
      "-1 -1\n",
      "[ 6.08372134 -0.97979197]\n",
      "-1 -1\n",
      "[ 6.08372134 -0.97979197]\n",
      "1 1\n",
      "[ 6.08372134 -0.97979197]\n",
      "-1 -1\n",
      "[ 6.08372134 -0.97979197]\n",
      "-1 -1\n",
      "[ 6.08372134 -0.97979197]\n",
      "1 1\n",
      "[ 6.08372134 -0.97979197]\n",
      "1 1\n",
      "[ 6.08372134 -0.97979197]\n",
      "-1 -1\n",
      "[ 6.08372134 -0.97979197]\n",
      "1 1\n",
      "[ 6.08372134 -0.97979197]\n",
      "-1 -1\n",
      "[ 6.08372134 -0.97979197]\n",
      "1 1\n",
      "[ 6.08372134 -0.97979197]\n",
      "-1 -1\n",
      "[ 6.08372134 -0.97979197]\n",
      "-1 -1\n",
      "[ 6.08372134 -0.97979197]\n",
      "1 1\n",
      "[ 6.08372134 -0.97979197]\n",
      "-1 -1\n",
      "[ 6.08372134 -0.97979197]\n",
      "1 1\n",
      "[ 6.08372134 -0.97979197]\n",
      "-1 -1\n",
      "[ 6.08372134 -0.97979197]\n",
      "1 1\n",
      "[ 6.08372134 -0.97979197]\n",
      "1 1\n",
      "[ 6.08372134 -0.97979197]\n",
      "-1 -1\n",
      "[ 6.08372134 -0.97979197]\n",
      "1 1\n",
      "[ 6.08372134 -0.97979197]\n",
      "-1 -1\n",
      "[ 6.08372134 -0.97979197]\n",
      "1 1\n",
      "[ 6.08372134 -0.97979197]\n",
      "-1 -1\n",
      "[ 6.08372134 -0.97979197]\n",
      "1 1\n",
      "[ 6.08372134 -0.97979197]\n",
      "1 1\n",
      "[ 6.08372134 -0.97979197]\n",
      "-1 -1\n",
      "[ 6.08372134 -0.97979197]\n",
      "-1 -1\n",
      "[ 6.08372134 -0.97979197]\n",
      "-1 -1\n",
      "[ 6.08372134 -0.97979197]\n",
      "-1 -1\n",
      "[ 6.08372134 -0.97979197]\n",
      "1 1\n",
      "[ 6.08372134 -0.97979197]\n",
      "1 1\n",
      "[ 6.08372134 -0.97979197]\n",
      "-1 -1\n",
      "[ 6.08372134 -0.97979197]\n",
      "-1 -1\n",
      "[ 6.08372134 -0.97979197]\n",
      "-1 -1\n",
      "[ 6.08372134 -0.97979197]\n",
      "-1 -1\n",
      "[ 6.08372134 -0.97979197]\n",
      "1 1\n",
      "[ 6.08372134 -0.97979197]\n",
      "1 1\n",
      "[ 6.08372134 -0.97979197]\n",
      "-1 -1\n",
      "[ 6.08372134 -0.97979197]\n",
      "0\n",
      "Total mistakes: 2\n",
      "{0: 2, 1: 0}\n",
      "[ 6.08372134 -0.97979197]\n"
     ]
    }
   ],
   "source": [
    "w = np.zeros(X.shape[1])\n",
    "print('w is ', w)\n",
    "epochs = 10\n",
    "total_mistakes = 0\n",
    "weight_updates_per_epoch = {}\n",
    "\n",
    "for epoch in range(epochs):\n",
    "  weight_updates_per_epoch[epoch] = 0\n",
    "  print('*************epoch', epoch, end = ': ')\n",
    "  for i in range(len(X)):\n",
    "    y_pred = 1 if w.T@X[i] >= 0 else -1\n",
    "    print(y[i], y_pred)\n",
    "    if y[i] == 1 and y_pred == -1:\n",
    "      w = w + X[i]\n",
    "      total_mistakes += 1\n",
    "      weight_updates_per_epoch[epoch] += 1\n",
    "    if y[i] == -1 and y_pred == 1:\n",
    "      w = w - X[i]\n",
    "      total_mistakes += 1\n",
    "      weight_updates_per_epoch[epoch] += 1\n",
    "    print(w)\n",
    "  # print(epoch)\n",
    "  print(weight_updates_per_epoch[epoch])\n",
    "  if weight_updates_per_epoch[epoch] == 0:\n",
    "    break\n",
    "print('Total mistakes:', total_mistakes)\n",
    "\n",
    "print(weight_updates_per_epoch)\n",
    "\n",
    "print(w)"
   ]
  },
  {
   "cell_type": "code",
   "execution_count": 12,
   "metadata": {
    "colab": {
     "base_uri": "https://localhost:8080/"
    },
    "executionInfo": {
     "elapsed": 44,
     "status": "ok",
     "timestamp": 1667561491812,
     "user": {
      "displayName": "Anamika Chhabra",
      "userId": "17255738975158015368"
     },
     "user_tz": -330
    },
    "id": "exibVuxeInEK",
    "outputId": "0dc87b32-139e-4e0c-cd67-8f1800b6a7c8"
   },
   "outputs": [
    {
     "data": {
      "text/plain": [
       "array([ 6.08372134, -0.97979197])"
      ]
     },
     "execution_count": 12,
     "metadata": {},
     "output_type": "execute_result"
    }
   ],
   "source": [
    "w"
   ]
  },
  {
   "cell_type": "markdown",
   "metadata": {
    "id": "H0m2DCnMvVsO"
   },
   "source": [
    "![image.png](data:image/png;base64,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)"
   ]
  },
  {
   "cell_type": "markdown",
   "metadata": {
    "id": "3zs84_zyUMZG"
   },
   "source": [
    "## Problem 6\n",
    "Plot the vector w and the decision boundary thus obtained."
   ]
  },
  {
   "cell_type": "code",
   "execution_count": 13,
   "metadata": {
    "colab": {
     "base_uri": "https://localhost:8080/",
     "height": 282
    },
    "executionInfo": {
     "elapsed": 40,
     "status": "ok",
     "timestamp": 1667561491812,
     "user": {
      "displayName": "Anamika Chhabra",
      "userId": "17255738975158015368"
     },
     "user_tz": -330
    },
    "id": "r-vlbIzC_ycG",
    "outputId": "7d4c9e4e-747a-446c-a4ba-735e43c442f9"
   },
   "outputs": [
    {
     "data": {
      "text/plain": [
       "(-7.0, 7.0)"
      ]
     },
     "execution_count": 13,
     "metadata": {},
     "output_type": "execute_result"
    },
    {
     "data": {
      "image/png": "[encoded data removed]",
      "text/plain": [
       "<Figure size 640x480 with 1 Axes>"
      ]
     },
     "metadata": {},
     "output_type": "display_data"
    }
   ],
   "source": [
    "import matplotlib.pyplot as plt\n",
    "plt.plot(X[:, 0][y == -1], X[:, 1][y == -1], 'ro', ms = 3)\n",
    "plt.plot(X[:, 0][y == 1], X[:, 1][y == 1], 'bo', ms = 3)\n",
    "plt.quiver(0, 0, w[0], w[1], scale=21, color = 'g')\n",
    "plt.quiver(0, 0, -w[1], w[0], scale=21, color = 'y', headaxislength = 0, headlength = 0)\n",
    "plt.quiver(0, 0, w[1], -w[0], scale=21, color = 'y', headaxislength = 0, headlength = 0)\n",
    "plt.xlim(-7, 7)\n",
    "plt.ylim(-7, 7)"
   ]
  },
  {
   "cell_type": "markdown",
   "metadata": {
    "id": "8jRORev-U_AQ"
   },
   "source": [
    "## Problem 7\n",
    "What is the value of loss using the weight vector obtained earlier?  "
   ]
  },
  {
   "cell_type": "markdown",
   "metadata": {},
   "source": [
    "We increase loss in case of false positive or false negative, that is why we check if y[i]!=y_pref and total loss is number of wrong predicted points"
   ]
  },
  {
   "cell_type": "code",
   "execution_count": 14,
   "metadata": {
    "colab": {
     "base_uri": "https://localhost:8080/"
    },
    "executionInfo": {
     "elapsed": 37,
     "status": "ok",
     "timestamp": 1667561491813,
     "user": {
      "displayName": "Anamika Chhabra",
      "userId": "17255738975158015368"
     },
     "user_tz": -330
    },
    "id": "uUIEWjt9Hn6Z",
    "outputId": "1f5d1c9e-fca1-46d4-f4f9-f6919ab91720"
   },
   "outputs": [
    {
     "data": {
      "text/plain": [
       "0"
      ]
     },
     "execution_count": 14,
     "metadata": {},
     "output_type": "execute_result"
    }
   ],
   "source": [
    "loss = 0\n",
    "for i in range(len(X)):\n",
    "    y_pred = 1 if w.T@X[i] >= 0 else -1\n",
    "    if y[i] == 1 and y_pred == -1:\n",
    "      loss += 1\n",
    "    if y[i] == -1 and y_pred == 1:\n",
    "      loss += 1\n",
    "\n",
    "loss\n",
    "      "
   ]
  },
  {
   "cell_type": "markdown",
   "metadata": {
    "id": "6Mv5kTYtVZ39"
   },
   "source": [
    "## Problem 8\n",
    "Now use the following data set, replace occurrences of 0 with -1 and visualize."
   ]
  },
  {
   "cell_type": "code",
   "execution_count": 15,
   "metadata": {
    "id": "27pznw-oVeFq"
   },
   "outputs": [],
   "source": [
    "from sklearn.datasets import make_classification\n",
    "X, y = make_classification(n_samples=50, n_features=2, n_informative = 2, n_redundant = 0, n_clusters_per_class = 1, flip_y = 0.1, class_sep = 2, random_state=20)"
   ]
  },
  {
   "cell_type": "code",
   "execution_count": 16,
   "metadata": {
    "id": "kJISUAWSZjZe"
   },
   "outputs": [],
   "source": [
    "y[y == 0] = -1"
   ]
  },
  {
   "cell_type": "code",
   "execution_count": 17,
   "metadata": {
    "colab": {
     "base_uri": "https://localhost:8080/",
     "height": 282
    },
    "executionInfo": {
     "elapsed": 37,
     "status": "ok",
     "timestamp": 1667561491815,
     "user": {
      "displayName": "Anamika Chhabra",
      "userId": "17255738975158015368"
     },
     "user_tz": -330
    },
    "id": "b3aoCRmZWoRQ",
    "outputId": "8640f1a5-9242-4db8-fadd-24105a93002b"
   },
   "outputs": [
    {
     "data": {
      "text/plain": [
       "[<matplotlib.lines.Line2D at 0x20666e5a7d0>]"
      ]
     },
     "execution_count": 17,
     "metadata": {},
     "output_type": "execute_result"
    },
    {
     "data": {
      "image/png": "[encoded data removed]",
      "text/plain": [
       "<Figure size 640x480 with 1 Axes>"
      ]
     },
     "metadata": {},
     "output_type": "display_data"
    }
   ],
   "source": [
    "import matplotlib.pyplot as plt\n",
    "plt.plot(X[:, 0][y == -1], X[:, 1][y == -1], 'ro')\n",
    "plt.plot(X[:, 0][y == 1], X[:, 1][y == 1], 'bo')"
   ]
  },
  {
   "cell_type": "markdown",
   "metadata": {
    "id": "jLlsj651cjtm"
   },
   "source": [
    "## Problem 9\n",
    "\n",
    "Apply the Perceptron code again. \n",
    "\n",
    "What is the number of weight updates performed in epoch 10?"
   ]
  },
  {
   "cell_type": "code",
   "execution_count": 18,
   "metadata": {
    "colab": {
     "base_uri": "https://localhost:8080/"
    },
    "executionInfo": {
     "elapsed": 34,
     "status": "ok",
     "timestamp": 1667561491815,
     "user": {
      "displayName": "Anamika Chhabra",
      "userId": "17255738975158015368"
     },
     "user_tz": -330
    },
    "id": "PIxCI7Y5VtRm",
    "outputId": "2d585f79-33c6-4497-848f-88caab5d09a4"
   },
   "outputs": [
    {
     "name": "stdout",
     "output_type": "stream",
     "text": [
      "*************epoch 0: 13\n",
      "*************epoch 1: 11\n",
      "*************epoch 2: 12\n",
      "*************epoch 3: 11\n",
      "*************epoch 4: 11\n",
      "*************epoch 5: 10\n",
      "*************epoch 6: 11\n",
      "*************epoch 7: 11\n",
      "*************epoch 8: 11\n",
      "*************epoch 9: 11\n",
      "Total mistakes: 112\n"
     ]
    }
   ],
   "source": [
    "w = np.zeros(X.shape[1])\n",
    "epochs = 10\n",
    "total_mistakes = 0\n",
    "weight_updates_per_epoch = {}\n",
    "\n",
    "for epoch in range(epochs):\n",
    "  weight_updates_per_epoch[epoch] = 0\n",
    "  print('*************epoch', epoch, end = ': ')\n",
    "  for i in range(len(X)):\n",
    "    y_pred = 1 if w.T@X[i] >= 0 else -1\n",
    "    # print(y[i], y_pred)\n",
    "    if y[i] == 1 and y_pred == -1:\n",
    "      w = w + X[i] # adding in case of wrong negative classification\n",
    "      total_mistakes += 1\n",
    "      weight_updates_per_epoch[epoch] += 1\n",
    "    if y[i] == -1 and y_pred == 1:\n",
    "      w = w - X[i] # adding in case of wrong positive classification\n",
    "      total_mistakes += 1\n",
    "      weight_updates_per_epoch[epoch] += 1\n",
    "    # print(w)\n",
    "  # print(epoch)\n",
    "  print(weight_updates_per_epoch[epoch])\n",
    "  if weight_updates_per_epoch[epoch] == 0:\n",
    "    break\n",
    "print('Total mistakes:', total_mistakes)"
   ]
  },
  {
   "cell_type": "markdown",
   "metadata": {
    "id": "iVxGOLbocqVv"
   },
   "source": [
    "## Problem 10\n",
    "Visualize the weight vector and the decision boundary."
   ]
  },
  {
   "cell_type": "code",
   "execution_count": 22,
   "metadata": {
    "colab": {
     "base_uri": "https://localhost:8080/",
     "height": 282
    },
    "executionInfo": {
     "elapsed": 31,
     "status": "ok",
     "timestamp": 1667561491817,
     "user": {
      "displayName": "Anamika Chhabra",
      "userId": "17255738975158015368"
     },
     "user_tz": -330
    },
    "id": "k4P849pVWHqT",
    "outputId": "9ba7755b-9a93-483b-9e99-68c3c808da91"
   },
   "outputs": [
    {
     "data": {
      "text/plain": [
       "(-7.0, 7.0)"
      ]
     },
     "execution_count": 22,
     "metadata": {},
     "output_type": "execute_result"
    },
    {
     "data": {
      "image/png": "[encoded data removed]",
      "text/plain": [
       "<Figure size 640x480 with 1 Axes>"
      ]
     },
     "metadata": {},
     "output_type": "display_data"
    }
   ],
   "source": [
    "import matplotlib.pyplot as plt\n",
    "plt.plot(X[:, 0][y == -1], X[:, 1][y == -1], 'ro', ms = 3)\n",
    "plt.plot(X[:, 0][y == 1], X[:, 1][y == 1], 'bo', ms = 3)\n",
    "\n",
    "# here onwards this is the way to plot the line for separation\n",
    "plt.quiver(0, 0, w[0], w[1], scale=21, color = 'g') # this is the perpendicular line \n",
    "plt.quiver(0, 0, -w[1], w[0], scale=21, color = 'y', headaxislength = 0, headlength = 0)\n",
    "plt.quiver(0, 0, w[1], -w[0], scale=21, color = 'y', headaxislength = 0, headlength = 0)\n",
    "plt.xlim(-7, 7) # these two lines are used to change the position of the line\n",
    "plt.ylim(-7, 7)"
   ]
  },
  {
   "cell_type": "markdown",
   "metadata": {
    "id": "H43OonpNVuMD"
   },
   "source": [
    "## Problem 11\n",
    "What is the value of loss using the weight vector obtained in the 10th epoch?"
   ]
  },
  {
   "cell_type": "code",
   "execution_count": 24,
   "metadata": {
    "colab": {
     "base_uri": "https://localhost:8080/"
    },
    "executionInfo": {
     "elapsed": 29,
     "status": "ok",
     "timestamp": 1667561491817,
     "user": {
      "displayName": "Anamika Chhabra",
      "userId": "17255738975158015368"
     },
     "user_tz": -330
    },
    "id": "KVJox0MrWKTd",
    "outputId": "5bee06fa-3ac7-4d9b-f1c3-a622d654bcaf"
   },
   "outputs": [
    {
     "data": {
      "text/plain": [
       "4"
      ]
     },
     "execution_count": 24,
     "metadata": {},
     "output_type": "execute_result"
    }
   ],
   "source": [
    "loss = 0\n",
    "for i in range(len(X)):\n",
    "    y_pred = 1 if w.T@X[i] >= 0 else -1\n",
    "    if y[i] == 1 and y_pred == -1:\n",
    "      loss += 1\n",
    "    if y[i] == -1 and y_pred == 1:\n",
    "      loss += 1\n",
    "\n",
    "loss\n",
    "      "
   ]
  }
 ],
 "metadata": {
  "colab": {
   "authorship_tag": "ABX9TyOZYP88aeXPXuNId6Pixv9f",
   "provenance": []
  },
  "kernelspec": {
   "display_name": "Python 3",
   "name": "python3"
  },
  "language_info": {
   "codemirror_mode": {
    "name": "ipython",
    "version": 3
   },
   "file_extension": ".py",
   "mimetype": "text/x-python",
   "name": "python",
   "nbconvert_exporter": "python",
   "pygments_lexer": "ipython3",
   "version": "3.11.0"
  }
 },
 "nbformat": 4,
 "nbformat_minor": 0
}
